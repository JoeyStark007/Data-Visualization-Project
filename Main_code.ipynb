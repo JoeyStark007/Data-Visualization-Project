{
 "cells": [
  {
   "cell_type": "code",
   "execution_count": 2,
   "id": "413edcb8",
   "metadata": {},
   "outputs": [],
   "source": [
    "import pandas as pd\n",
    "from matplotlib import pyplot as plt\n",
    "import numpy as np\n"
   ]
  },
  {
   "cell_type": "code",
   "execution_count": 3,
   "id": "084641a0",
   "metadata": {},
   "outputs": [
    {
     "ename": "FileNotFoundError",
     "evalue": "[Errno 2] No such file or directory: 'evdataset.csv'",
     "output_type": "error",
     "traceback": [
      "\u001b[1;31m---------------------------------------------------------------------------\u001b[0m",
      "\u001b[1;31mFileNotFoundError\u001b[0m                         Traceback (most recent call last)",
      "\u001b[1;32m~\\AppData\\Local\\Temp\\ipykernel_12048\\1074004557.py\u001b[0m in \u001b[0;36m<module>\u001b[1;34m\u001b[0m\n\u001b[1;32m----> 1\u001b[1;33m \u001b[0mdf\u001b[0m \u001b[1;33m=\u001b[0m \u001b[0mpd\u001b[0m\u001b[1;33m.\u001b[0m\u001b[0mread_csv\u001b[0m\u001b[1;33m(\u001b[0m\u001b[1;34m\"evdataset.csv\"\u001b[0m\u001b[1;33m)\u001b[0m\u001b[1;33m\u001b[0m\u001b[1;33m\u001b[0m\u001b[0m\n\u001b[0m",
      "\u001b[1;32mC:\\Users\\jgtef\\3rdAnaconda\\lib\\site-packages\\pandas\\util\\_decorators.py\u001b[0m in \u001b[0;36mwrapper\u001b[1;34m(*args, **kwargs)\u001b[0m\n\u001b[0;32m    309\u001b[0m                     \u001b[0mstacklevel\u001b[0m\u001b[1;33m=\u001b[0m\u001b[0mstacklevel\u001b[0m\u001b[1;33m,\u001b[0m\u001b[1;33m\u001b[0m\u001b[1;33m\u001b[0m\u001b[0m\n\u001b[0;32m    310\u001b[0m                 )\n\u001b[1;32m--> 311\u001b[1;33m             \u001b[1;32mreturn\u001b[0m \u001b[0mfunc\u001b[0m\u001b[1;33m(\u001b[0m\u001b[1;33m*\u001b[0m\u001b[0margs\u001b[0m\u001b[1;33m,\u001b[0m \u001b[1;33m**\u001b[0m\u001b[0mkwargs\u001b[0m\u001b[1;33m)\u001b[0m\u001b[1;33m\u001b[0m\u001b[1;33m\u001b[0m\u001b[0m\n\u001b[0m\u001b[0;32m    312\u001b[0m \u001b[1;33m\u001b[0m\u001b[0m\n\u001b[0;32m    313\u001b[0m         \u001b[1;32mreturn\u001b[0m \u001b[0mwrapper\u001b[0m\u001b[1;33m\u001b[0m\u001b[1;33m\u001b[0m\u001b[0m\n",
      "\u001b[1;32mC:\\Users\\jgtef\\3rdAnaconda\\lib\\site-packages\\pandas\\io\\parsers\\readers.py\u001b[0m in \u001b[0;36mread_csv\u001b[1;34m(filepath_or_buffer, sep, delimiter, header, names, index_col, usecols, squeeze, prefix, mangle_dupe_cols, dtype, engine, converters, true_values, false_values, skipinitialspace, skiprows, skipfooter, nrows, na_values, keep_default_na, na_filter, verbose, skip_blank_lines, parse_dates, infer_datetime_format, keep_date_col, date_parser, dayfirst, cache_dates, iterator, chunksize, compression, thousands, decimal, lineterminator, quotechar, quoting, doublequote, escapechar, comment, encoding, encoding_errors, dialect, error_bad_lines, warn_bad_lines, on_bad_lines, delim_whitespace, low_memory, memory_map, float_precision, storage_options)\u001b[0m\n\u001b[0;32m    676\u001b[0m     \u001b[0mkwds\u001b[0m\u001b[1;33m.\u001b[0m\u001b[0mupdate\u001b[0m\u001b[1;33m(\u001b[0m\u001b[0mkwds_defaults\u001b[0m\u001b[1;33m)\u001b[0m\u001b[1;33m\u001b[0m\u001b[1;33m\u001b[0m\u001b[0m\n\u001b[0;32m    677\u001b[0m \u001b[1;33m\u001b[0m\u001b[0m\n\u001b[1;32m--> 678\u001b[1;33m     \u001b[1;32mreturn\u001b[0m \u001b[0m_read\u001b[0m\u001b[1;33m(\u001b[0m\u001b[0mfilepath_or_buffer\u001b[0m\u001b[1;33m,\u001b[0m \u001b[0mkwds\u001b[0m\u001b[1;33m)\u001b[0m\u001b[1;33m\u001b[0m\u001b[1;33m\u001b[0m\u001b[0m\n\u001b[0m\u001b[0;32m    679\u001b[0m \u001b[1;33m\u001b[0m\u001b[0m\n\u001b[0;32m    680\u001b[0m \u001b[1;33m\u001b[0m\u001b[0m\n",
      "\u001b[1;32mC:\\Users\\jgtef\\3rdAnaconda\\lib\\site-packages\\pandas\\io\\parsers\\readers.py\u001b[0m in \u001b[0;36m_read\u001b[1;34m(filepath_or_buffer, kwds)\u001b[0m\n\u001b[0;32m    573\u001b[0m \u001b[1;33m\u001b[0m\u001b[0m\n\u001b[0;32m    574\u001b[0m     \u001b[1;31m# Create the parser.\u001b[0m\u001b[1;33m\u001b[0m\u001b[1;33m\u001b[0m\u001b[0m\n\u001b[1;32m--> 575\u001b[1;33m     \u001b[0mparser\u001b[0m \u001b[1;33m=\u001b[0m \u001b[0mTextFileReader\u001b[0m\u001b[1;33m(\u001b[0m\u001b[0mfilepath_or_buffer\u001b[0m\u001b[1;33m,\u001b[0m \u001b[1;33m**\u001b[0m\u001b[0mkwds\u001b[0m\u001b[1;33m)\u001b[0m\u001b[1;33m\u001b[0m\u001b[1;33m\u001b[0m\u001b[0m\n\u001b[0m\u001b[0;32m    576\u001b[0m \u001b[1;33m\u001b[0m\u001b[0m\n\u001b[0;32m    577\u001b[0m     \u001b[1;32mif\u001b[0m \u001b[0mchunksize\u001b[0m \u001b[1;32mor\u001b[0m \u001b[0miterator\u001b[0m\u001b[1;33m:\u001b[0m\u001b[1;33m\u001b[0m\u001b[1;33m\u001b[0m\u001b[0m\n",
      "\u001b[1;32mC:\\Users\\jgtef\\3rdAnaconda\\lib\\site-packages\\pandas\\io\\parsers\\readers.py\u001b[0m in \u001b[0;36m__init__\u001b[1;34m(self, f, engine, **kwds)\u001b[0m\n\u001b[0;32m    930\u001b[0m \u001b[1;33m\u001b[0m\u001b[0m\n\u001b[0;32m    931\u001b[0m         \u001b[0mself\u001b[0m\u001b[1;33m.\u001b[0m\u001b[0mhandles\u001b[0m\u001b[1;33m:\u001b[0m \u001b[0mIOHandles\u001b[0m \u001b[1;33m|\u001b[0m \u001b[1;32mNone\u001b[0m \u001b[1;33m=\u001b[0m \u001b[1;32mNone\u001b[0m\u001b[1;33m\u001b[0m\u001b[1;33m\u001b[0m\u001b[0m\n\u001b[1;32m--> 932\u001b[1;33m         \u001b[0mself\u001b[0m\u001b[1;33m.\u001b[0m\u001b[0m_engine\u001b[0m \u001b[1;33m=\u001b[0m \u001b[0mself\u001b[0m\u001b[1;33m.\u001b[0m\u001b[0m_make_engine\u001b[0m\u001b[1;33m(\u001b[0m\u001b[0mf\u001b[0m\u001b[1;33m,\u001b[0m \u001b[0mself\u001b[0m\u001b[1;33m.\u001b[0m\u001b[0mengine\u001b[0m\u001b[1;33m)\u001b[0m\u001b[1;33m\u001b[0m\u001b[1;33m\u001b[0m\u001b[0m\n\u001b[0m\u001b[0;32m    933\u001b[0m \u001b[1;33m\u001b[0m\u001b[0m\n\u001b[0;32m    934\u001b[0m     \u001b[1;32mdef\u001b[0m \u001b[0mclose\u001b[0m\u001b[1;33m(\u001b[0m\u001b[0mself\u001b[0m\u001b[1;33m)\u001b[0m\u001b[1;33m:\u001b[0m\u001b[1;33m\u001b[0m\u001b[1;33m\u001b[0m\u001b[0m\n",
      "\u001b[1;32mC:\\Users\\jgtef\\3rdAnaconda\\lib\\site-packages\\pandas\\io\\parsers\\readers.py\u001b[0m in \u001b[0;36m_make_engine\u001b[1;34m(self, f, engine)\u001b[0m\n\u001b[0;32m   1214\u001b[0m             \u001b[1;31m# \"Union[str, PathLike[str], ReadCsvBuffer[bytes], ReadCsvBuffer[str]]\"\u001b[0m\u001b[1;33m\u001b[0m\u001b[1;33m\u001b[0m\u001b[0m\n\u001b[0;32m   1215\u001b[0m             \u001b[1;31m# , \"str\", \"bool\", \"Any\", \"Any\", \"Any\", \"Any\", \"Any\"\u001b[0m\u001b[1;33m\u001b[0m\u001b[1;33m\u001b[0m\u001b[0m\n\u001b[1;32m-> 1216\u001b[1;33m             self.handles = get_handle(  # type: ignore[call-overload]\n\u001b[0m\u001b[0;32m   1217\u001b[0m                 \u001b[0mf\u001b[0m\u001b[1;33m,\u001b[0m\u001b[1;33m\u001b[0m\u001b[1;33m\u001b[0m\u001b[0m\n\u001b[0;32m   1218\u001b[0m                 \u001b[0mmode\u001b[0m\u001b[1;33m,\u001b[0m\u001b[1;33m\u001b[0m\u001b[1;33m\u001b[0m\u001b[0m\n",
      "\u001b[1;32mC:\\Users\\jgtef\\3rdAnaconda\\lib\\site-packages\\pandas\\io\\common.py\u001b[0m in \u001b[0;36mget_handle\u001b[1;34m(path_or_buf, mode, encoding, compression, memory_map, is_text, errors, storage_options)\u001b[0m\n\u001b[0;32m    784\u001b[0m         \u001b[1;32mif\u001b[0m \u001b[0mioargs\u001b[0m\u001b[1;33m.\u001b[0m\u001b[0mencoding\u001b[0m \u001b[1;32mand\u001b[0m \u001b[1;34m\"b\"\u001b[0m \u001b[1;32mnot\u001b[0m \u001b[1;32min\u001b[0m \u001b[0mioargs\u001b[0m\u001b[1;33m.\u001b[0m\u001b[0mmode\u001b[0m\u001b[1;33m:\u001b[0m\u001b[1;33m\u001b[0m\u001b[1;33m\u001b[0m\u001b[0m\n\u001b[0;32m    785\u001b[0m             \u001b[1;31m# Encoding\u001b[0m\u001b[1;33m\u001b[0m\u001b[1;33m\u001b[0m\u001b[0m\n\u001b[1;32m--> 786\u001b[1;33m             handle = open(\n\u001b[0m\u001b[0;32m    787\u001b[0m                 \u001b[0mhandle\u001b[0m\u001b[1;33m,\u001b[0m\u001b[1;33m\u001b[0m\u001b[1;33m\u001b[0m\u001b[0m\n\u001b[0;32m    788\u001b[0m                 \u001b[0mioargs\u001b[0m\u001b[1;33m.\u001b[0m\u001b[0mmode\u001b[0m\u001b[1;33m,\u001b[0m\u001b[1;33m\u001b[0m\u001b[1;33m\u001b[0m\u001b[0m\n",
      "\u001b[1;31mFileNotFoundError\u001b[0m: [Errno 2] No such file or directory: 'evdataset.csv'"
     ]
    }
   ],
   "source": [
    "df = pd.read_csv(\"evdataset.csv\")\n"
   ]
  },
  {
   "cell_type": "code",
   "execution_count": null,
   "id": "305c5fc7",
   "metadata": {},
   "outputs": [],
   "source": [
    "#sample of dataframe\n",
    "df.head(5)\n"
   ]
  },
  {
   "cell_type": "code",
   "execution_count": 4,
   "id": "a0e88cd2",
   "metadata": {},
   "outputs": [
    {
     "data": {
      "text/html": [
       "<div>\n",
       "<style scoped>\n",
       "    .dataframe tbody tr th:only-of-type {\n",
       "        vertical-align: middle;\n",
       "    }\n",
       "\n",
       "    .dataframe tbody tr th {\n",
       "        vertical-align: top;\n",
       "    }\n",
       "\n",
       "    .dataframe thead th {\n",
       "        text-align: right;\n",
       "    }\n",
       "</style>\n",
       "<table border=\"1\" class=\"dataframe\">\n",
       "  <thead>\n",
       "    <tr style=\"text-align: right;\">\n",
       "      <th></th>\n",
       "      <th>id</th>\n",
       "      <th>City - Cold Weather</th>\n",
       "      <th>Highway - Cold Weather</th>\n",
       "      <th>Combined - Cold Weather</th>\n",
       "      <th>City - Mild Weather</th>\n",
       "      <th>Highway - Mild Weather</th>\n",
       "      <th>Combined - Mild Weather</th>\n",
       "      <th>Acceleration 0 - 100 km/h</th>\n",
       "      <th>Top Speed</th>\n",
       "      <th>Electric Range</th>\n",
       "      <th>...</th>\n",
       "      <th>Charge Speed</th>\n",
       "      <th>Fastcharge Speed</th>\n",
       "      <th>Length</th>\n",
       "      <th>Width</th>\n",
       "      <th>Height</th>\n",
       "      <th>Wheelbase</th>\n",
       "      <th>Gross Vehicle Weight (GVWR)</th>\n",
       "      <th>Max. Payload</th>\n",
       "      <th>Cargo Volume</th>\n",
       "      <th>Seats</th>\n",
       "    </tr>\n",
       "  </thead>\n",
       "  <tbody>\n",
       "    <tr>\n",
       "      <th>count</th>\n",
       "      <td>194.000000</td>\n",
       "      <td>194.000000</td>\n",
       "      <td>194.000000</td>\n",
       "      <td>194.000000</td>\n",
       "      <td>194.000000</td>\n",
       "      <td>194.000000</td>\n",
       "      <td>194.000000</td>\n",
       "      <td>194.000000</td>\n",
       "      <td>194.000000</td>\n",
       "      <td>194.000000</td>\n",
       "      <td>...</td>\n",
       "      <td>194.000000</td>\n",
       "      <td>194.000000</td>\n",
       "      <td>194.000000</td>\n",
       "      <td>194.000000</td>\n",
       "      <td>194.000000</td>\n",
       "      <td>194.000000</td>\n",
       "      <td>194.000000</td>\n",
       "      <td>194.000000</td>\n",
       "      <td>194.000000</td>\n",
       "      <td>194.000000</td>\n",
       "    </tr>\n",
       "    <tr>\n",
       "      <th>mean</th>\n",
       "      <td>1526.257732</td>\n",
       "      <td>343.247423</td>\n",
       "      <td>247.500000</td>\n",
       "      <td>293.144330</td>\n",
       "      <td>502.706186</td>\n",
       "      <td>315.721649</td>\n",
       "      <td>393.608247</td>\n",
       "      <td>7.870619</td>\n",
       "      <td>177.015464</td>\n",
       "      <td>345.592784</td>\n",
       "      <td>...</td>\n",
       "      <td>44.396907</td>\n",
       "      <td>528.711340</td>\n",
       "      <td>4702.087629</td>\n",
       "      <td>1880.061856</td>\n",
       "      <td>1620.706186</td>\n",
       "      <td>2899.829897</td>\n",
       "      <td>2633.139175</td>\n",
       "      <td>619.257732</td>\n",
       "      <td>507.190722</td>\n",
       "      <td>5.536082</td>\n",
       "    </tr>\n",
       "    <tr>\n",
       "      <th>std</th>\n",
       "      <td>154.958947</td>\n",
       "      <td>92.173078</td>\n",
       "      <td>75.553656</td>\n",
       "      <td>84.558652</td>\n",
       "      <td>138.297461</td>\n",
       "      <td>98.967440</td>\n",
       "      <td>117.054175</td>\n",
       "      <td>3.168385</td>\n",
       "      <td>38.110213</td>\n",
       "      <td>101.384377</td>\n",
       "      <td>...</td>\n",
       "      <td>15.617918</td>\n",
       "      <td>256.219808</td>\n",
       "      <td>378.219208</td>\n",
       "      <td>68.719346</td>\n",
       "      <td>152.249425</td>\n",
       "      <td>238.567154</td>\n",
       "      <td>415.592250</td>\n",
       "      <td>199.938995</td>\n",
       "      <td>192.411664</td>\n",
       "      <td>1.530768</td>\n",
       "    </tr>\n",
       "    <tr>\n",
       "      <th>min</th>\n",
       "      <td>1116.000000</td>\n",
       "      <td>135.000000</td>\n",
       "      <td>95.000000</td>\n",
       "      <td>115.000000</td>\n",
       "      <td>210.000000</td>\n",
       "      <td>125.000000</td>\n",
       "      <td>160.000000</td>\n",
       "      <td>2.800000</td>\n",
       "      <td>125.000000</td>\n",
       "      <td>135.000000</td>\n",
       "      <td>...</td>\n",
       "      <td>24.000000</td>\n",
       "      <td>150.000000</td>\n",
       "      <td>3631.000000</td>\n",
       "      <td>1622.000000</td>\n",
       "      <td>1378.000000</td>\n",
       "      <td>2322.000000</td>\n",
       "      <td>1300.000000</td>\n",
       "      <td>245.000000</td>\n",
       "      <td>171.000000</td>\n",
       "      <td>4.000000</td>\n",
       "    </tr>\n",
       "    <tr>\n",
       "      <th>25%</th>\n",
       "      <td>1437.250000</td>\n",
       "      <td>280.000000</td>\n",
       "      <td>185.000000</td>\n",
       "      <td>230.000000</td>\n",
       "      <td>395.000000</td>\n",
       "      <td>230.000000</td>\n",
       "      <td>295.000000</td>\n",
       "      <td>5.400000</td>\n",
       "      <td>150.000000</td>\n",
       "      <td>265.000000</td>\n",
       "      <td>...</td>\n",
       "      <td>34.000000</td>\n",
       "      <td>312.500000</td>\n",
       "      <td>4469.750000</td>\n",
       "      <td>1837.000000</td>\n",
       "      <td>1519.750000</td>\n",
       "      <td>2764.000000</td>\n",
       "      <td>2310.000000</td>\n",
       "      <td>497.000000</td>\n",
       "      <td>405.000000</td>\n",
       "      <td>5.000000</td>\n",
       "    </tr>\n",
       "    <tr>\n",
       "      <th>50%</th>\n",
       "      <td>1557.500000</td>\n",
       "      <td>350.000000</td>\n",
       "      <td>250.000000</td>\n",
       "      <td>300.000000</td>\n",
       "      <td>515.000000</td>\n",
       "      <td>320.000000</td>\n",
       "      <td>400.000000</td>\n",
       "      <td>7.400000</td>\n",
       "      <td>160.000000</td>\n",
       "      <td>352.500000</td>\n",
       "      <td>...</td>\n",
       "      <td>46.000000</td>\n",
       "      <td>470.000000</td>\n",
       "      <td>4694.000000</td>\n",
       "      <td>1887.000000</td>\n",
       "      <td>1614.000000</td>\n",
       "      <td>2900.000000</td>\n",
       "      <td>2660.000000</td>\n",
       "      <td>572.500000</td>\n",
       "      <td>472.500000</td>\n",
       "      <td>5.000000</td>\n",
       "    </tr>\n",
       "    <tr>\n",
       "      <th>75%</th>\n",
       "      <td>1648.750000</td>\n",
       "      <td>403.750000</td>\n",
       "      <td>295.000000</td>\n",
       "      <td>345.000000</td>\n",
       "      <td>595.000000</td>\n",
       "      <td>375.000000</td>\n",
       "      <td>470.000000</td>\n",
       "      <td>9.650000</td>\n",
       "      <td>200.000000</td>\n",
       "      <td>410.000000</td>\n",
       "      <td>...</td>\n",
       "      <td>51.750000</td>\n",
       "      <td>650.000000</td>\n",
       "      <td>4959.000000</td>\n",
       "      <td>1920.750000</td>\n",
       "      <td>1652.000000</td>\n",
       "      <td>3082.500000</td>\n",
       "      <td>2968.750000</td>\n",
       "      <td>645.000000</td>\n",
       "      <td>558.250000</td>\n",
       "      <td>5.000000</td>\n",
       "    </tr>\n",
       "    <tr>\n",
       "      <th>max</th>\n",
       "      <td>1757.000000</td>\n",
       "      <td>595.000000</td>\n",
       "      <td>470.000000</td>\n",
       "      <td>535.000000</td>\n",
       "      <td>895.000000</td>\n",
       "      <td>615.000000</td>\n",
       "      <td>740.000000</td>\n",
       "      <td>19.100000</td>\n",
       "      <td>261.000000</td>\n",
       "      <td>640.000000</td>\n",
       "      <td>...</td>\n",
       "      <td>110.000000</td>\n",
       "      <td>1170.000000</td>\n",
       "      <td>5391.000000</td>\n",
       "      <td>2011.000000</td>\n",
       "      <td>1927.000000</td>\n",
       "      <td>3430.000000</td>\n",
       "      <td>3500.000000</td>\n",
       "      <td>1121.000000</td>\n",
       "      <td>1410.000000</td>\n",
       "      <td>9.000000</td>\n",
       "    </tr>\n",
       "  </tbody>\n",
       "</table>\n",
       "<p>8 rows × 24 columns</p>\n",
       "</div>"
      ],
      "text/plain": [
       "                id  City - Cold Weather  Highway - Cold Weather  \\\n",
       "count   194.000000           194.000000              194.000000   \n",
       "mean   1526.257732           343.247423              247.500000   \n",
       "std     154.958947            92.173078               75.553656   \n",
       "min    1116.000000           135.000000               95.000000   \n",
       "25%    1437.250000           280.000000              185.000000   \n",
       "50%    1557.500000           350.000000              250.000000   \n",
       "75%    1648.750000           403.750000              295.000000   \n",
       "max    1757.000000           595.000000              470.000000   \n",
       "\n",
       "       Combined - Cold Weather  City - Mild Weather  Highway - Mild Weather  \\\n",
       "count               194.000000           194.000000              194.000000   \n",
       "mean                293.144330           502.706186              315.721649   \n",
       "std                  84.558652           138.297461               98.967440   \n",
       "min                 115.000000           210.000000              125.000000   \n",
       "25%                 230.000000           395.000000              230.000000   \n",
       "50%                 300.000000           515.000000              320.000000   \n",
       "75%                 345.000000           595.000000              375.000000   \n",
       "max                 535.000000           895.000000              615.000000   \n",
       "\n",
       "       Combined - Mild Weather  Acceleration 0 - 100 km/h   Top Speed  \\\n",
       "count               194.000000                 194.000000  194.000000   \n",
       "mean                393.608247                   7.870619  177.015464   \n",
       "std                 117.054175                   3.168385   38.110213   \n",
       "min                 160.000000                   2.800000  125.000000   \n",
       "25%                 295.000000                   5.400000  150.000000   \n",
       "50%                 400.000000                   7.400000  160.000000   \n",
       "75%                 470.000000                   9.650000  200.000000   \n",
       "max                 740.000000                  19.100000  261.000000   \n",
       "\n",
       "       Electric Range  ...  Charge Speed  Fastcharge Speed       Length  \\\n",
       "count      194.000000  ...    194.000000        194.000000   194.000000   \n",
       "mean       345.592784  ...     44.396907        528.711340  4702.087629   \n",
       "std        101.384377  ...     15.617918        256.219808   378.219208   \n",
       "min        135.000000  ...     24.000000        150.000000  3631.000000   \n",
       "25%        265.000000  ...     34.000000        312.500000  4469.750000   \n",
       "50%        352.500000  ...     46.000000        470.000000  4694.000000   \n",
       "75%        410.000000  ...     51.750000        650.000000  4959.000000   \n",
       "max        640.000000  ...    110.000000       1170.000000  5391.000000   \n",
       "\n",
       "             Width       Height    Wheelbase  Gross Vehicle Weight (GVWR)  \\\n",
       "count   194.000000   194.000000   194.000000                   194.000000   \n",
       "mean   1880.061856  1620.706186  2899.829897                  2633.139175   \n",
       "std      68.719346   152.249425   238.567154                   415.592250   \n",
       "min    1622.000000  1378.000000  2322.000000                  1300.000000   \n",
       "25%    1837.000000  1519.750000  2764.000000                  2310.000000   \n",
       "50%    1887.000000  1614.000000  2900.000000                  2660.000000   \n",
       "75%    1920.750000  1652.000000  3082.500000                  2968.750000   \n",
       "max    2011.000000  1927.000000  3430.000000                  3500.000000   \n",
       "\n",
       "       Max. Payload  Cargo Volume       Seats  \n",
       "count    194.000000    194.000000  194.000000  \n",
       "mean     619.257732    507.190722    5.536082  \n",
       "std      199.938995    192.411664    1.530768  \n",
       "min      245.000000    171.000000    4.000000  \n",
       "25%      497.000000    405.000000    5.000000  \n",
       "50%      572.500000    472.500000    5.000000  \n",
       "75%      645.000000    558.250000    5.000000  \n",
       "max     1121.000000   1410.000000    9.000000  \n",
       "\n",
       "[8 rows x 24 columns]"
      ]
     },
     "execution_count": 4,
     "metadata": {},
     "output_type": "execute_result"
    }
   ],
   "source": [
    "#Which car make has the fastest acceleration on average  ?\n",
    "\n",
    "df.dropna()\n",
    "df.columns\n",
    "\n",
    "# Basic summary statisics of the df\n",
    "df.describe()\n"
   ]
  },
  {
   "cell_type": "code",
   "execution_count": 5,
   "id": "c2d9b1a0",
   "metadata": {},
   "outputs": [
    {
     "data": {
      "text/html": [
       "<div>\n",
       "<style scoped>\n",
       "    .dataframe tbody tr th:only-of-type {\n",
       "        vertical-align: middle;\n",
       "    }\n",
       "\n",
       "    .dataframe tbody tr th {\n",
       "        vertical-align: top;\n",
       "    }\n",
       "\n",
       "    .dataframe thead th {\n",
       "        text-align: right;\n",
       "    }\n",
       "</style>\n",
       "<table border=\"1\" class=\"dataframe\">\n",
       "  <thead>\n",
       "    <tr style=\"text-align: right;\">\n",
       "      <th></th>\n",
       "      <th>id</th>\n",
       "      <th>Make</th>\n",
       "      <th>link</th>\n",
       "      <th>City - Cold Weather</th>\n",
       "      <th>Highway - Cold Weather</th>\n",
       "      <th>Combined - Cold Weather</th>\n",
       "      <th>City - Mild Weather</th>\n",
       "      <th>Highway - Mild Weather</th>\n",
       "      <th>Combined - Mild Weather</th>\n",
       "      <th>Acceleration 0 - 100 km/h</th>\n",
       "      <th>...</th>\n",
       "      <th>Charge Speed</th>\n",
       "      <th>Fastcharge Speed</th>\n",
       "      <th>Length</th>\n",
       "      <th>Width</th>\n",
       "      <th>Height</th>\n",
       "      <th>Wheelbase</th>\n",
       "      <th>Gross Vehicle Weight (GVWR)</th>\n",
       "      <th>Max. Payload</th>\n",
       "      <th>Cargo Volume</th>\n",
       "      <th>Seats</th>\n",
       "    </tr>\n",
       "  </thead>\n",
       "  <tbody>\n",
       "    <tr>\n",
       "      <th>189</th>\n",
       "      <td>1116</td>\n",
       "      <td>Porsche</td>\n",
       "      <td>https://ev-database.org/car/1116/Porsche-Tayca...</td>\n",
       "      <td>390</td>\n",
       "      <td>290</td>\n",
       "      <td>340</td>\n",
       "      <td>560</td>\n",
       "      <td>370</td>\n",
       "      <td>450</td>\n",
       "      <td>2.8</td>\n",
       "      <td>...</td>\n",
       "      <td>45</td>\n",
       "      <td>980</td>\n",
       "      <td>4963</td>\n",
       "      <td>1966</td>\n",
       "      <td>1378</td>\n",
       "      <td>2900</td>\n",
       "      <td>2870</td>\n",
       "      <td>575</td>\n",
       "      <td>366</td>\n",
       "      <td>4</td>\n",
       "    </tr>\n",
       "    <tr>\n",
       "      <th>131</th>\n",
       "      <td>1626</td>\n",
       "      <td>Porsche</td>\n",
       "      <td>https://ev-database.org/car/1626/Porsche-Tayca...</td>\n",
       "      <td>385</td>\n",
       "      <td>290</td>\n",
       "      <td>335</td>\n",
       "      <td>555</td>\n",
       "      <td>365</td>\n",
       "      <td>445</td>\n",
       "      <td>2.8</td>\n",
       "      <td>...</td>\n",
       "      <td>44</td>\n",
       "      <td>970</td>\n",
       "      <td>4963</td>\n",
       "      <td>1966</td>\n",
       "      <td>1390</td>\n",
       "      <td>2900</td>\n",
       "      <td>2870</td>\n",
       "      <td>545</td>\n",
       "      <td>405</td>\n",
       "      <td>4</td>\n",
       "    </tr>\n",
       "    <tr>\n",
       "      <th>122</th>\n",
       "      <td>1439</td>\n",
       "      <td>Porsche</td>\n",
       "      <td>https://ev-database.org/car/1439/Porsche-Tayca...</td>\n",
       "      <td>380</td>\n",
       "      <td>280</td>\n",
       "      <td>330</td>\n",
       "      <td>545</td>\n",
       "      <td>355</td>\n",
       "      <td>435</td>\n",
       "      <td>2.9</td>\n",
       "      <td>...</td>\n",
       "      <td>43</td>\n",
       "      <td>950</td>\n",
       "      <td>4974</td>\n",
       "      <td>1967</td>\n",
       "      <td>1409</td>\n",
       "      <td>2904</td>\n",
       "      <td>2880</td>\n",
       "      <td>635</td>\n",
       "      <td>405</td>\n",
       "      <td>4</td>\n",
       "    </tr>\n",
       "    <tr>\n",
       "      <th>2</th>\n",
       "      <td>1229</td>\n",
       "      <td>Porsche</td>\n",
       "      <td>https://ev-database.org/car/1229/Porsche-Tayca...</td>\n",
       "      <td>400</td>\n",
       "      <td>305</td>\n",
       "      <td>350</td>\n",
       "      <td>580</td>\n",
       "      <td>385</td>\n",
       "      <td>470</td>\n",
       "      <td>3.2</td>\n",
       "      <td>...</td>\n",
       "      <td>46</td>\n",
       "      <td>1020</td>\n",
       "      <td>4963</td>\n",
       "      <td>1966</td>\n",
       "      <td>1381</td>\n",
       "      <td>2900</td>\n",
       "      <td>2880</td>\n",
       "      <td>575</td>\n",
       "      <td>366</td>\n",
       "      <td>4</td>\n",
       "    </tr>\n",
       "    <tr>\n",
       "      <th>9</th>\n",
       "      <td>1625</td>\n",
       "      <td>Porsche</td>\n",
       "      <td>https://ev-database.org/car/1625/Porsche-Tayca...</td>\n",
       "      <td>395</td>\n",
       "      <td>295</td>\n",
       "      <td>345</td>\n",
       "      <td>565</td>\n",
       "      <td>375</td>\n",
       "      <td>460</td>\n",
       "      <td>3.2</td>\n",
       "      <td>...</td>\n",
       "      <td>45</td>\n",
       "      <td>1000</td>\n",
       "      <td>4963</td>\n",
       "      <td>1966</td>\n",
       "      <td>1391</td>\n",
       "      <td>2900</td>\n",
       "      <td>2880</td>\n",
       "      <td>550</td>\n",
       "      <td>405</td>\n",
       "      <td>4</td>\n",
       "    </tr>\n",
       "    <tr>\n",
       "      <th>...</th>\n",
       "      <td>...</td>\n",
       "      <td>...</td>\n",
       "      <td>...</td>\n",
       "      <td>...</td>\n",
       "      <td>...</td>\n",
       "      <td>...</td>\n",
       "      <td>...</td>\n",
       "      <td>...</td>\n",
       "      <td>...</td>\n",
       "      <td>...</td>\n",
       "      <td>...</td>\n",
       "      <td>...</td>\n",
       "      <td>...</td>\n",
       "      <td>...</td>\n",
       "      <td>...</td>\n",
       "      <td>...</td>\n",
       "      <td>...</td>\n",
       "      <td>...</td>\n",
       "      <td>...</td>\n",
       "      <td>...</td>\n",
       "      <td>...</td>\n",
       "    </tr>\n",
       "    <tr>\n",
       "      <th>156</th>\n",
       "      <td>1354</td>\n",
       "      <td>Peugeot</td>\n",
       "      <td>https://ev-database.org/car/1354/Peugeot-e-Tra...</td>\n",
       "      <td>280</td>\n",
       "      <td>185</td>\n",
       "      <td>225</td>\n",
       "      <td>390</td>\n",
       "      <td>225</td>\n",
       "      <td>290</td>\n",
       "      <td>14.3</td>\n",
       "      <td>...</td>\n",
       "      <td>24</td>\n",
       "      <td>280</td>\n",
       "      <td>5308</td>\n",
       "      <td>1920</td>\n",
       "      <td>1890</td>\n",
       "      <td>3275</td>\n",
       "      <td>3100</td>\n",
       "      <td>1014</td>\n",
       "      <td>989</td>\n",
       "      <td>9</td>\n",
       "    </tr>\n",
       "    <tr>\n",
       "      <th>66</th>\n",
       "      <td>1608</td>\n",
       "      <td>Peugeot</td>\n",
       "      <td>https://ev-database.org/car/1608/Peugeot-e-Exp...</td>\n",
       "      <td>280</td>\n",
       "      <td>185</td>\n",
       "      <td>225</td>\n",
       "      <td>390</td>\n",
       "      <td>225</td>\n",
       "      <td>290</td>\n",
       "      <td>14.3</td>\n",
       "      <td>...</td>\n",
       "      <td>24</td>\n",
       "      <td>280</td>\n",
       "      <td>5308</td>\n",
       "      <td>1920</td>\n",
       "      <td>1890</td>\n",
       "      <td>3275</td>\n",
       "      <td>3100</td>\n",
       "      <td>1014</td>\n",
       "      <td>989</td>\n",
       "      <td>9</td>\n",
       "    </tr>\n",
       "    <tr>\n",
       "      <th>139</th>\n",
       "      <td>1607</td>\n",
       "      <td>Peugeot</td>\n",
       "      <td>https://ev-database.org/car/1607/Peugeot-e-Exp...</td>\n",
       "      <td>285</td>\n",
       "      <td>185</td>\n",
       "      <td>230</td>\n",
       "      <td>395</td>\n",
       "      <td>230</td>\n",
       "      <td>295</td>\n",
       "      <td>14.3</td>\n",
       "      <td>...</td>\n",
       "      <td>25</td>\n",
       "      <td>290</td>\n",
       "      <td>4956</td>\n",
       "      <td>1920</td>\n",
       "      <td>1890</td>\n",
       "      <td>3275</td>\n",
       "      <td>3100</td>\n",
       "      <td>1044</td>\n",
       "      <td>603</td>\n",
       "      <td>9</td>\n",
       "    </tr>\n",
       "    <tr>\n",
       "      <th>193</th>\n",
       "      <td>1353</td>\n",
       "      <td>Peugeot</td>\n",
       "      <td>https://ev-database.org/car/1353/Peugeot-e-Tra...</td>\n",
       "      <td>285</td>\n",
       "      <td>185</td>\n",
       "      <td>230</td>\n",
       "      <td>395</td>\n",
       "      <td>230</td>\n",
       "      <td>295</td>\n",
       "      <td>14.3</td>\n",
       "      <td>...</td>\n",
       "      <td>25</td>\n",
       "      <td>290</td>\n",
       "      <td>4956</td>\n",
       "      <td>1920</td>\n",
       "      <td>1890</td>\n",
       "      <td>3275</td>\n",
       "      <td>3100</td>\n",
       "      <td>1044</td>\n",
       "      <td>603</td>\n",
       "      <td>9</td>\n",
       "    </tr>\n",
       "    <tr>\n",
       "      <th>121</th>\n",
       "      <td>1705</td>\n",
       "      <td>Dacia</td>\n",
       "      <td>https://ev-database.org/car/1705/Dacia-Spring-...</td>\n",
       "      <td>160</td>\n",
       "      <td>110</td>\n",
       "      <td>130</td>\n",
       "      <td>245</td>\n",
       "      <td>140</td>\n",
       "      <td>180</td>\n",
       "      <td>19.1</td>\n",
       "      <td>...</td>\n",
       "      <td>35</td>\n",
       "      <td>170</td>\n",
       "      <td>3734</td>\n",
       "      <td>1622</td>\n",
       "      <td>1516</td>\n",
       "      <td>2423</td>\n",
       "      <td>1300</td>\n",
       "      <td>363</td>\n",
       "      <td>300</td>\n",
       "      <td>4</td>\n",
       "    </tr>\n",
       "  </tbody>\n",
       "</table>\n",
       "<p>194 rows × 27 columns</p>\n",
       "</div>"
      ],
      "text/plain": [
       "       id     Make                                               link  \\\n",
       "189  1116  Porsche  https://ev-database.org/car/1116/Porsche-Tayca...   \n",
       "131  1626  Porsche  https://ev-database.org/car/1626/Porsche-Tayca...   \n",
       "122  1439  Porsche  https://ev-database.org/car/1439/Porsche-Tayca...   \n",
       "2    1229  Porsche  https://ev-database.org/car/1229/Porsche-Tayca...   \n",
       "9    1625  Porsche  https://ev-database.org/car/1625/Porsche-Tayca...   \n",
       "..    ...      ...                                                ...   \n",
       "156  1354  Peugeot  https://ev-database.org/car/1354/Peugeot-e-Tra...   \n",
       "66   1608  Peugeot  https://ev-database.org/car/1608/Peugeot-e-Exp...   \n",
       "139  1607  Peugeot  https://ev-database.org/car/1607/Peugeot-e-Exp...   \n",
       "193  1353  Peugeot  https://ev-database.org/car/1353/Peugeot-e-Tra...   \n",
       "121  1705    Dacia  https://ev-database.org/car/1705/Dacia-Spring-...   \n",
       "\n",
       "     City - Cold Weather  Highway - Cold Weather  Combined - Cold Weather  \\\n",
       "189                  390                     290                      340   \n",
       "131                  385                     290                      335   \n",
       "122                  380                     280                      330   \n",
       "2                    400                     305                      350   \n",
       "9                    395                     295                      345   \n",
       "..                   ...                     ...                      ...   \n",
       "156                  280                     185                      225   \n",
       "66                   280                     185                      225   \n",
       "139                  285                     185                      230   \n",
       "193                  285                     185                      230   \n",
       "121                  160                     110                      130   \n",
       "\n",
       "     City - Mild Weather  Highway - Mild Weather  Combined - Mild Weather  \\\n",
       "189                  560                     370                      450   \n",
       "131                  555                     365                      445   \n",
       "122                  545                     355                      435   \n",
       "2                    580                     385                      470   \n",
       "9                    565                     375                      460   \n",
       "..                   ...                     ...                      ...   \n",
       "156                  390                     225                      290   \n",
       "66                   390                     225                      290   \n",
       "139                  395                     230                      295   \n",
       "193                  395                     230                      295   \n",
       "121                  245                     140                      180   \n",
       "\n",
       "     Acceleration 0 - 100 km/h  ...  Charge Speed  Fastcharge Speed  Length  \\\n",
       "189                        2.8  ...            45               980    4963   \n",
       "131                        2.8  ...            44               970    4963   \n",
       "122                        2.9  ...            43               950    4974   \n",
       "2                          3.2  ...            46              1020    4963   \n",
       "9                          3.2  ...            45              1000    4963   \n",
       "..                         ...  ...           ...               ...     ...   \n",
       "156                       14.3  ...            24               280    5308   \n",
       "66                        14.3  ...            24               280    5308   \n",
       "139                       14.3  ...            25               290    4956   \n",
       "193                       14.3  ...            25               290    4956   \n",
       "121                       19.1  ...            35               170    3734   \n",
       "\n",
       "     Width Height  Wheelbase  Gross Vehicle Weight (GVWR)  Max. Payload  \\\n",
       "189   1966   1378       2900                         2870           575   \n",
       "131   1966   1390       2900                         2870           545   \n",
       "122   1967   1409       2904                         2880           635   \n",
       "2     1966   1381       2900                         2880           575   \n",
       "9     1966   1391       2900                         2880           550   \n",
       "..     ...    ...        ...                          ...           ...   \n",
       "156   1920   1890       3275                         3100          1014   \n",
       "66    1920   1890       3275                         3100          1014   \n",
       "139   1920   1890       3275                         3100          1044   \n",
       "193   1920   1890       3275                         3100          1044   \n",
       "121   1622   1516       2423                         1300           363   \n",
       "\n",
       "     Cargo Volume  Seats  \n",
       "189           366      4  \n",
       "131           405      4  \n",
       "122           405      4  \n",
       "2             366      4  \n",
       "9             405      4  \n",
       "..            ...    ...  \n",
       "156           989      9  \n",
       "66            989      9  \n",
       "139           603      9  \n",
       "193           603      9  \n",
       "121           300      4  \n",
       "\n",
       "[194 rows x 27 columns]"
      ]
     },
     "execution_count": 5,
     "metadata": {},
     "output_type": "execute_result"
    }
   ],
   "source": [
    "#Tried sorting the values in order but there is many car Makes with different acceleration speeds\n",
    "#We need a visualization to better understand this\n",
    "df.sort_values(by=['Acceleration 0 - 100 km/h'], ascending=True)"
   ]
  },
  {
   "cell_type": "code",
   "execution_count": 1,
   "id": "7ed5e177",
   "metadata": {},
   "outputs": [
    {
     "ename": "NameError",
     "evalue": "name 'df' is not defined",
     "output_type": "error",
     "traceback": [
      "\u001b[1;31m---------------------------------------------------------------------------\u001b[0m",
      "\u001b[1;31mNameError\u001b[0m                                 Traceback (most recent call last)",
      "\u001b[1;32m~\\AppData\\Local\\Temp\\ipykernel_12048\\1989627974.py\u001b[0m in \u001b[0;36m<module>\u001b[1;34m\u001b[0m\n\u001b[0;32m      2\u001b[0m \u001b[1;31m#However we still can't answer the question - which car make has the fastest acceleration on average?\u001b[0m\u001b[1;33m\u001b[0m\u001b[1;33m\u001b[0m\u001b[0m\n\u001b[0;32m      3\u001b[0m \u001b[1;32mimport\u001b[0m \u001b[0mplotly\u001b[0m\u001b[1;33m.\u001b[0m\u001b[0mexpress\u001b[0m \u001b[1;32mas\u001b[0m \u001b[0mpx\u001b[0m\u001b[1;33m\u001b[0m\u001b[1;33m\u001b[0m\u001b[0m\n\u001b[1;32m----> 4\u001b[1;33m \u001b[0mfig\u001b[0m \u001b[1;33m=\u001b[0m \u001b[0mpx\u001b[0m\u001b[1;33m.\u001b[0m\u001b[0mscatter\u001b[0m\u001b[1;33m(\u001b[0m\u001b[0mx\u001b[0m\u001b[1;33m=\u001b[0m\u001b[0mdf\u001b[0m\u001b[1;33m[\u001b[0m\u001b[1;34m\"Make\"\u001b[0m\u001b[1;33m]\u001b[0m\u001b[1;33m,\u001b[0m \u001b[0my\u001b[0m\u001b[1;33m=\u001b[0m\u001b[0mdf\u001b[0m\u001b[1;33m[\u001b[0m\u001b[1;34m\"Acceleration 0 - 100 km/h\"\u001b[0m\u001b[1;33m]\u001b[0m\u001b[1;33m)\u001b[0m\u001b[1;33m\u001b[0m\u001b[1;33m\u001b[0m\u001b[0m\n\u001b[0m\u001b[0;32m      5\u001b[0m \u001b[0mfig\u001b[0m\u001b[1;33m.\u001b[0m\u001b[0mshow\u001b[0m\u001b[1;33m(\u001b[0m\u001b[1;33m)\u001b[0m\u001b[1;33m\u001b[0m\u001b[1;33m\u001b[0m\u001b[0m\n",
      "\u001b[1;31mNameError\u001b[0m: name 'df' is not defined"
     ]
    }
   ],
   "source": [
    "#Here we use a plot graph which shows us all the plots based on car Make\n",
    "#However we still can't answer the question - which car make has the fastest acceleration on average?\n",
    "import plotly.express as px\n",
    "fig = px.scatter(x=df[\"Make\"], y=df[\"Acceleration 0 - 100 km/h\"])\n",
    "fig.show()"
   ]
  },
  {
   "cell_type": "code",
   "execution_count": 7,
   "id": "3cec8337",
   "metadata": {},
   "outputs": [
    {
     "data": {
      "application/vnd.plotly.v1+json": {
       "config": {
        "plotlyServerURL": "https://plot.ly"
       },
       "data": [
        {
         "alignmentgroup": "True",
         "hovertemplate": "Make=%{x}<br>Acceleration 0 - 100 km/h=%{y}<extra></extra>",
         "legendgroup": "",
         "marker": {
          "color": "#636efa"
         },
         "name": "",
         "notched": false,
         "offsetgroup": "",
         "orientation": "v",
         "showlegend": false,
         "type": "box",
         "x": [
          "Genesis",
          "Mercedes",
          "Porsche",
          "BMW",
          "Volkswagen",
          "CUPRA",
          "Skoda",
          "Porsche",
          "Skoda",
          "Porsche",
          "Skoda",
          "MG",
          "Volvo",
          "Fiat",
          "Smart",
          "Hyundai",
          "Peugeot",
          "Citroen",
          "Mercedes",
          "Porsche",
          "Genesis",
          "Porsche",
          "Audi",
          "Fiat",
          "Volvo",
          "Volkswagen",
          "BMW",
          "Polestar",
          "Toyota",
          "Audi",
          "Kia",
          "DS",
          "Mercedes",
          "Citroen",
          "MG",
          "Citroen",
          "Volkswagen",
          "Volvo",
          "CUPRA",
          "Peugeot",
          "Mercedes",
          "Citroen",
          "Toyota",
          "Kia",
          "Mercedes",
          "Peugeot",
          "Ford",
          "MG",
          "Mercedes",
          "Genesis",
          "Mercedes",
          "Hyundai",
          "Genesis",
          "MG",
          "Smart",
          "Ford",
          "Hyundai",
          "Audi",
          "Mercedes",
          "Honda",
          "Citroen",
          "Porsche",
          "Peugeot",
          "Audi",
          "Mercedes",
          "Mercedes",
          "Peugeot",
          "BMW",
          "Mercedes",
          "Volkswagen",
          "Hyundai",
          "Fiat",
          "Peugeot",
          "JAC",
          "Nissan",
          "Skoda",
          "MG",
          "Volkswagen",
          "BMW",
          "Mercedes",
          "Toyota",
          "MG",
          "Volvo",
          "Porsche",
          "Mercedes",
          "Renault",
          "Fiat",
          "Audi",
          "MG",
          "MG",
          "Kia",
          "Kia",
          "Peugeot",
          "Mercedes",
          "Mercedes",
          "Opel",
          "Audi",
          "Volkswagen",
          "Renault",
          "Mercedes",
          "Audi",
          "Kia",
          "Toyota",
          "Toyota",
          "Kia",
          "Ford",
          "BMW",
          "Audi",
          "Mercedes",
          "Hongqi",
          "Toyota",
          "Volkswagen",
          "CUPRA",
          "Porsche",
          "Lexus",
          "Renault",
          "Porsche",
          "Porsche",
          "Hyundai",
          "Peugeot",
          "Mercedes",
          "Dacia",
          "Porsche",
          "Toyota",
          "Skoda",
          "Mercedes",
          "Mazda",
          "Fiat",
          "Seres",
          "Tesla",
          "Audi",
          "Porsche",
          "Audi",
          "BMW",
          "Audi",
          "Peugeot",
          "Volkswagen",
          "Opel",
          "Tesla",
          "Peugeot",
          "Porsche",
          "Volkswagen",
          "Fiat",
          "Audi",
          "Volkswagen",
          "Mercedes",
          "Opel",
          "Renault",
          "Jaguar",
          "Ford",
          "Citroen",
          "Tesla",
          "Citroen",
          "Toyota",
          "Audi",
          "Mercedes",
          "Peugeot",
          "Porsche",
          "Opel",
          "Renault",
          "Opel",
          "Citroen",
          "Fiat",
          "Porsche",
          "CUPRA",
          "BMW",
          "Citroen",
          "Polestar",
          "Audi",
          "Fiat",
          "Audi",
          "Volkswagen",
          "Porsche",
          "Mercedes",
          "Mercedes",
          "Ford",
          "Mini",
          "Tesla",
          "Mercedes",
          "Citroen",
          "Hongqi",
          "Ford",
          "BMW",
          "Opel",
          "Subaru",
          "Ford",
          "Honda",
          "Porsche",
          "Volkswagen",
          "Porsche",
          "Volkswagen",
          "Citroen",
          "Audi",
          "Peugeot"
         ],
         "x0": " ",
         "xaxis": "x",
         "y": [
          7.8,
          6.2,
          3.2,
          5.7,
          7.9,
          8.9,
          8.7,
          3.3,
          6.9,
          3.2,
          8.6,
          4.9,
          4.7,
          9,
          6.7,
          7.3,
          11.7,
          11.7,
          3.5,
          5.1,
          5.5,
          4,
          8.5,
          12.1,
          4.9,
          10.9,
          6.8,
          4.7,
          6.9,
          9,
          7.8,
          8.7,
          4.3,
          12.1,
          7.9,
          12.1,
          8.5,
          7.4,
          7.3,
          8.5,
          6,
          9.7,
          12.1,
          3.5,
          8.6,
          13.1,
          4.4,
          8.5,
          7.7,
          4,
          3.4,
          7.9,
          4.2,
          7.9,
          3.9,
          7,
          8.5,
          4.5,
          12.1,
          8.3,
          12.1,
          3.7,
          13.1,
          6.9,
          6.3,
          8.6,
          14.3,
          5.6,
          4.8,
          9,
          9.9,
          9,
          13.1,
          12,
          6.9,
          8.8,
          8.3,
          10.2,
          3.8,
          5.1,
          13.1,
          8.4,
          7.4,
          4,
          4.7,
          10.5,
          12.1,
          4.5,
          7.7,
          8.6,
          5.2,
          7.3,
          8.1,
          6,
          6.7,
          13.3,
          9,
          10.4,
          10,
          7.6,
          6.8,
          9.9,
          13.1,
          13.1,
          8.5,
          5.8,
          4.6,
          3.3,
          6.4,
          4.9,
          12.1,
          10.4,
          7,
          5.4,
          7.5,
          11.4,
          4.1,
          5.4,
          5.1,
          11.7,
          13.1,
          19.1,
          2.9,
          13.1,
          8.7,
          4.2,
          9.7,
          9,
          8.9,
          4.4,
          5.7,
          2.8,
          6.9,
          6.1,
          4.1,
          13.1,
          6.3,
          12.1,
          5,
          14.3,
          5.4,
          6.9,
          9,
          6.2,
          7.3,
          6.4,
          9.2,
          7.4,
          4.8,
          5.8,
          13.3,
          3.7,
          13.3,
          7.5,
          6.8,
          6.2,
          14.3,
          4,
          12.1,
          9.5,
          8.1,
          12.1,
          13.3,
          3.7,
          6.6,
          4.7,
          13.3,
          7.4,
          5.7,
          13.3,
          8.5,
          6.2,
          4,
          8,
          9.2,
          4.4,
          7.3,
          3.3,
          5.6,
          13.3,
          6.5,
          6.9,
          3.9,
          13.3,
          6.9,
          6.3,
          9,
          5.4,
          8.4,
          2.8,
          7.9,
          11.7,
          6.2,
          14.3
         ],
         "y0": " ",
         "yaxis": "y"
        }
       ],
       "layout": {
        "boxmode": "group",
        "legend": {
         "tracegroupgap": 0
        },
        "margin": {
         "t": 60
        },
        "template": {
         "data": {
          "bar": [
           {
            "error_x": {
             "color": "#2a3f5f"
            },
            "error_y": {
             "color": "#2a3f5f"
            },
            "marker": {
             "line": {
              "color": "#E5ECF6",
              "width": 0.5
             },
             "pattern": {
              "fillmode": "overlay",
              "size": 10,
              "solidity": 0.2
             }
            },
            "type": "bar"
           }
          ],
          "barpolar": [
           {
            "marker": {
             "line": {
              "color": "#E5ECF6",
              "width": 0.5
             },
             "pattern": {
              "fillmode": "overlay",
              "size": 10,
              "solidity": 0.2
             }
            },
            "type": "barpolar"
           }
          ],
          "carpet": [
           {
            "aaxis": {
             "endlinecolor": "#2a3f5f",
             "gridcolor": "white",
             "linecolor": "white",
             "minorgridcolor": "white",
             "startlinecolor": "#2a3f5f"
            },
            "baxis": {
             "endlinecolor": "#2a3f5f",
             "gridcolor": "white",
             "linecolor": "white",
             "minorgridcolor": "white",
             "startlinecolor": "#2a3f5f"
            },
            "type": "carpet"
           }
          ],
          "choropleth": [
           {
            "colorbar": {
             "outlinewidth": 0,
             "ticks": ""
            },
            "type": "choropleth"
           }
          ],
          "contour": [
           {
            "colorbar": {
             "outlinewidth": 0,
             "ticks": ""
            },
            "colorscale": [
             [
              0,
              "#0d0887"
             ],
             [
              0.1111111111111111,
              "#46039f"
             ],
             [
              0.2222222222222222,
              "#7201a8"
             ],
             [
              0.3333333333333333,
              "#9c179e"
             ],
             [
              0.4444444444444444,
              "#bd3786"
             ],
             [
              0.5555555555555556,
              "#d8576b"
             ],
             [
              0.6666666666666666,
              "#ed7953"
             ],
             [
              0.7777777777777778,
              "#fb9f3a"
             ],
             [
              0.8888888888888888,
              "#fdca26"
             ],
             [
              1,
              "#f0f921"
             ]
            ],
            "type": "contour"
           }
          ],
          "contourcarpet": [
           {
            "colorbar": {
             "outlinewidth": 0,
             "ticks": ""
            },
            "type": "contourcarpet"
           }
          ],
          "heatmap": [
           {
            "colorbar": {
             "outlinewidth": 0,
             "ticks": ""
            },
            "colorscale": [
             [
              0,
              "#0d0887"
             ],
             [
              0.1111111111111111,
              "#46039f"
             ],
             [
              0.2222222222222222,
              "#7201a8"
             ],
             [
              0.3333333333333333,
              "#9c179e"
             ],
             [
              0.4444444444444444,
              "#bd3786"
             ],
             [
              0.5555555555555556,
              "#d8576b"
             ],
             [
              0.6666666666666666,
              "#ed7953"
             ],
             [
              0.7777777777777778,
              "#fb9f3a"
             ],
             [
              0.8888888888888888,
              "#fdca26"
             ],
             [
              1,
              "#f0f921"
             ]
            ],
            "type": "heatmap"
           }
          ],
          "heatmapgl": [
           {
            "colorbar": {
             "outlinewidth": 0,
             "ticks": ""
            },
            "colorscale": [
             [
              0,
              "#0d0887"
             ],
             [
              0.1111111111111111,
              "#46039f"
             ],
             [
              0.2222222222222222,
              "#7201a8"
             ],
             [
              0.3333333333333333,
              "#9c179e"
             ],
             [
              0.4444444444444444,
              "#bd3786"
             ],
             [
              0.5555555555555556,
              "#d8576b"
             ],
             [
              0.6666666666666666,
              "#ed7953"
             ],
             [
              0.7777777777777778,
              "#fb9f3a"
             ],
             [
              0.8888888888888888,
              "#fdca26"
             ],
             [
              1,
              "#f0f921"
             ]
            ],
            "type": "heatmapgl"
           }
          ],
          "histogram": [
           {
            "marker": {
             "pattern": {
              "fillmode": "overlay",
              "size": 10,
              "solidity": 0.2
             }
            },
            "type": "histogram"
           }
          ],
          "histogram2d": [
           {
            "colorbar": {
             "outlinewidth": 0,
             "ticks": ""
            },
            "colorscale": [
             [
              0,
              "#0d0887"
             ],
             [
              0.1111111111111111,
              "#46039f"
             ],
             [
              0.2222222222222222,
              "#7201a8"
             ],
             [
              0.3333333333333333,
              "#9c179e"
             ],
             [
              0.4444444444444444,
              "#bd3786"
             ],
             [
              0.5555555555555556,
              "#d8576b"
             ],
             [
              0.6666666666666666,
              "#ed7953"
             ],
             [
              0.7777777777777778,
              "#fb9f3a"
             ],
             [
              0.8888888888888888,
              "#fdca26"
             ],
             [
              1,
              "#f0f921"
             ]
            ],
            "type": "histogram2d"
           }
          ],
          "histogram2dcontour": [
           {
            "colorbar": {
             "outlinewidth": 0,
             "ticks": ""
            },
            "colorscale": [
             [
              0,
              "#0d0887"
             ],
             [
              0.1111111111111111,
              "#46039f"
             ],
             [
              0.2222222222222222,
              "#7201a8"
             ],
             [
              0.3333333333333333,
              "#9c179e"
             ],
             [
              0.4444444444444444,
              "#bd3786"
             ],
             [
              0.5555555555555556,
              "#d8576b"
             ],
             [
              0.6666666666666666,
              "#ed7953"
             ],
             [
              0.7777777777777778,
              "#fb9f3a"
             ],
             [
              0.8888888888888888,
              "#fdca26"
             ],
             [
              1,
              "#f0f921"
             ]
            ],
            "type": "histogram2dcontour"
           }
          ],
          "mesh3d": [
           {
            "colorbar": {
             "outlinewidth": 0,
             "ticks": ""
            },
            "type": "mesh3d"
           }
          ],
          "parcoords": [
           {
            "line": {
             "colorbar": {
              "outlinewidth": 0,
              "ticks": ""
             }
            },
            "type": "parcoords"
           }
          ],
          "pie": [
           {
            "automargin": true,
            "type": "pie"
           }
          ],
          "scatter": [
           {
            "fillpattern": {
             "fillmode": "overlay",
             "size": 10,
             "solidity": 0.2
            },
            "type": "scatter"
           }
          ],
          "scatter3d": [
           {
            "line": {
             "colorbar": {
              "outlinewidth": 0,
              "ticks": ""
             }
            },
            "marker": {
             "colorbar": {
              "outlinewidth": 0,
              "ticks": ""
             }
            },
            "type": "scatter3d"
           }
          ],
          "scattercarpet": [
           {
            "marker": {
             "colorbar": {
              "outlinewidth": 0,
              "ticks": ""
             }
            },
            "type": "scattercarpet"
           }
          ],
          "scattergeo": [
           {
            "marker": {
             "colorbar": {
              "outlinewidth": 0,
              "ticks": ""
             }
            },
            "type": "scattergeo"
           }
          ],
          "scattergl": [
           {
            "marker": {
             "colorbar": {
              "outlinewidth": 0,
              "ticks": ""
             }
            },
            "type": "scattergl"
           }
          ],
          "scattermapbox": [
           {
            "marker": {
             "colorbar": {
              "outlinewidth": 0,
              "ticks": ""
             }
            },
            "type": "scattermapbox"
           }
          ],
          "scatterpolar": [
           {
            "marker": {
             "colorbar": {
              "outlinewidth": 0,
              "ticks": ""
             }
            },
            "type": "scatterpolar"
           }
          ],
          "scatterpolargl": [
           {
            "marker": {
             "colorbar": {
              "outlinewidth": 0,
              "ticks": ""
             }
            },
            "type": "scatterpolargl"
           }
          ],
          "scatterternary": [
           {
            "marker": {
             "colorbar": {
              "outlinewidth": 0,
              "ticks": ""
             }
            },
            "type": "scatterternary"
           }
          ],
          "surface": [
           {
            "colorbar": {
             "outlinewidth": 0,
             "ticks": ""
            },
            "colorscale": [
             [
              0,
              "#0d0887"
             ],
             [
              0.1111111111111111,
              "#46039f"
             ],
             [
              0.2222222222222222,
              "#7201a8"
             ],
             [
              0.3333333333333333,
              "#9c179e"
             ],
             [
              0.4444444444444444,
              "#bd3786"
             ],
             [
              0.5555555555555556,
              "#d8576b"
             ],
             [
              0.6666666666666666,
              "#ed7953"
             ],
             [
              0.7777777777777778,
              "#fb9f3a"
             ],
             [
              0.8888888888888888,
              "#fdca26"
             ],
             [
              1,
              "#f0f921"
             ]
            ],
            "type": "surface"
           }
          ],
          "table": [
           {
            "cells": {
             "fill": {
              "color": "#EBF0F8"
             },
             "line": {
              "color": "white"
             }
            },
            "header": {
             "fill": {
              "color": "#C8D4E3"
             },
             "line": {
              "color": "white"
             }
            },
            "type": "table"
           }
          ]
         },
         "layout": {
          "annotationdefaults": {
           "arrowcolor": "#2a3f5f",
           "arrowhead": 0,
           "arrowwidth": 1
          },
          "autotypenumbers": "strict",
          "coloraxis": {
           "colorbar": {
            "outlinewidth": 0,
            "ticks": ""
           }
          },
          "colorscale": {
           "diverging": [
            [
             0,
             "#8e0152"
            ],
            [
             0.1,
             "#c51b7d"
            ],
            [
             0.2,
             "#de77ae"
            ],
            [
             0.3,
             "#f1b6da"
            ],
            [
             0.4,
             "#fde0ef"
            ],
            [
             0.5,
             "#f7f7f7"
            ],
            [
             0.6,
             "#e6f5d0"
            ],
            [
             0.7,
             "#b8e186"
            ],
            [
             0.8,
             "#7fbc41"
            ],
            [
             0.9,
             "#4d9221"
            ],
            [
             1,
             "#276419"
            ]
           ],
           "sequential": [
            [
             0,
             "#0d0887"
            ],
            [
             0.1111111111111111,
             "#46039f"
            ],
            [
             0.2222222222222222,
             "#7201a8"
            ],
            [
             0.3333333333333333,
             "#9c179e"
            ],
            [
             0.4444444444444444,
             "#bd3786"
            ],
            [
             0.5555555555555556,
             "#d8576b"
            ],
            [
             0.6666666666666666,
             "#ed7953"
            ],
            [
             0.7777777777777778,
             "#fb9f3a"
            ],
            [
             0.8888888888888888,
             "#fdca26"
            ],
            [
             1,
             "#f0f921"
            ]
           ],
           "sequentialminus": [
            [
             0,
             "#0d0887"
            ],
            [
             0.1111111111111111,
             "#46039f"
            ],
            [
             0.2222222222222222,
             "#7201a8"
            ],
            [
             0.3333333333333333,
             "#9c179e"
            ],
            [
             0.4444444444444444,
             "#bd3786"
            ],
            [
             0.5555555555555556,
             "#d8576b"
            ],
            [
             0.6666666666666666,
             "#ed7953"
            ],
            [
             0.7777777777777778,
             "#fb9f3a"
            ],
            [
             0.8888888888888888,
             "#fdca26"
            ],
            [
             1,
             "#f0f921"
            ]
           ]
          },
          "colorway": [
           "#636efa",
           "#EF553B",
           "#00cc96",
           "#ab63fa",
           "#FFA15A",
           "#19d3f3",
           "#FF6692",
           "#B6E880",
           "#FF97FF",
           "#FECB52"
          ],
          "font": {
           "color": "#2a3f5f"
          },
          "geo": {
           "bgcolor": "white",
           "lakecolor": "white",
           "landcolor": "#E5ECF6",
           "showlakes": true,
           "showland": true,
           "subunitcolor": "white"
          },
          "hoverlabel": {
           "align": "left"
          },
          "hovermode": "closest",
          "mapbox": {
           "style": "light"
          },
          "paper_bgcolor": "white",
          "plot_bgcolor": "#E5ECF6",
          "polar": {
           "angularaxis": {
            "gridcolor": "white",
            "linecolor": "white",
            "ticks": ""
           },
           "bgcolor": "#E5ECF6",
           "radialaxis": {
            "gridcolor": "white",
            "linecolor": "white",
            "ticks": ""
           }
          },
          "scene": {
           "xaxis": {
            "backgroundcolor": "#E5ECF6",
            "gridcolor": "white",
            "gridwidth": 2,
            "linecolor": "white",
            "showbackground": true,
            "ticks": "",
            "zerolinecolor": "white"
           },
           "yaxis": {
            "backgroundcolor": "#E5ECF6",
            "gridcolor": "white",
            "gridwidth": 2,
            "linecolor": "white",
            "showbackground": true,
            "ticks": "",
            "zerolinecolor": "white"
           },
           "zaxis": {
            "backgroundcolor": "#E5ECF6",
            "gridcolor": "white",
            "gridwidth": 2,
            "linecolor": "white",
            "showbackground": true,
            "ticks": "",
            "zerolinecolor": "white"
           }
          },
          "shapedefaults": {
           "line": {
            "color": "#2a3f5f"
           }
          },
          "ternary": {
           "aaxis": {
            "gridcolor": "white",
            "linecolor": "white",
            "ticks": ""
           },
           "baxis": {
            "gridcolor": "white",
            "linecolor": "white",
            "ticks": ""
           },
           "bgcolor": "#E5ECF6",
           "caxis": {
            "gridcolor": "white",
            "linecolor": "white",
            "ticks": ""
           }
          },
          "title": {
           "x": 0.05
          },
          "xaxis": {
           "automargin": true,
           "gridcolor": "white",
           "linecolor": "white",
           "ticks": "",
           "title": {
            "standoff": 15
           },
           "zerolinecolor": "white",
           "zerolinewidth": 2
          },
          "yaxis": {
           "automargin": true,
           "gridcolor": "white",
           "linecolor": "white",
           "ticks": "",
           "title": {
            "standoff": 15
           },
           "zerolinecolor": "white",
           "zerolinewidth": 2
          }
         }
        },
        "xaxis": {
         "anchor": "y",
         "domain": [
          0,
          1
         ],
         "title": {
          "text": "Make"
         }
        },
        "yaxis": {
         "anchor": "x",
         "domain": [
          0,
          1
         ],
         "title": {
          "text": "Acceleration 0 - 100 km/h"
         }
        }
       }
      },
      "text/html": [
       "<div>                            <div id=\"185d23a2-1cb1-49cf-80d3-1aa4e8014ac4\" class=\"plotly-graph-div\" style=\"height:525px; width:100%;\"></div>            <script type=\"text/javascript\">                require([\"plotly\"], function(Plotly) {                    window.PLOTLYENV=window.PLOTLYENV || {};                                    if (document.getElementById(\"185d23a2-1cb1-49cf-80d3-1aa4e8014ac4\")) {                    Plotly.newPlot(                        \"185d23a2-1cb1-49cf-80d3-1aa4e8014ac4\",                        [{\"alignmentgroup\":\"True\",\"hovertemplate\":\"Make=%{x}<br>Acceleration 0 - 100 km/h=%{y}<extra></extra>\",\"legendgroup\":\"\",\"marker\":{\"color\":\"#636efa\"},\"name\":\"\",\"notched\":false,\"offsetgroup\":\"\",\"orientation\":\"v\",\"showlegend\":false,\"x\":[\"Genesis\",\"Mercedes\",\"Porsche\",\"BMW\",\"Volkswagen\",\"CUPRA\",\"Skoda\",\"Porsche\",\"Skoda\",\"Porsche\",\"Skoda\",\"MG\",\"Volvo\",\"Fiat\",\"Smart\",\"Hyundai\",\"Peugeot\",\"Citroen\",\"Mercedes\",\"Porsche\",\"Genesis\",\"Porsche\",\"Audi\",\"Fiat\",\"Volvo\",\"Volkswagen\",\"BMW\",\"Polestar\",\"Toyota\",\"Audi\",\"Kia\",\"DS\",\"Mercedes\",\"Citroen\",\"MG\",\"Citroen\",\"Volkswagen\",\"Volvo\",\"CUPRA\",\"Peugeot\",\"Mercedes\",\"Citroen\",\"Toyota\",\"Kia\",\"Mercedes\",\"Peugeot\",\"Ford\",\"MG\",\"Mercedes\",\"Genesis\",\"Mercedes\",\"Hyundai\",\"Genesis\",\"MG\",\"Smart\",\"Ford\",\"Hyundai\",\"Audi\",\"Mercedes\",\"Honda\",\"Citroen\",\"Porsche\",\"Peugeot\",\"Audi\",\"Mercedes\",\"Mercedes\",\"Peugeot\",\"BMW\",\"Mercedes\",\"Volkswagen\",\"Hyundai\",\"Fiat\",\"Peugeot\",\"JAC\",\"Nissan\",\"Skoda\",\"MG\",\"Volkswagen\",\"BMW\",\"Mercedes\",\"Toyota\",\"MG\",\"Volvo\",\"Porsche\",\"Mercedes\",\"Renault\",\"Fiat\",\"Audi\",\"MG\",\"MG\",\"Kia\",\"Kia\",\"Peugeot\",\"Mercedes\",\"Mercedes\",\"Opel\",\"Audi\",\"Volkswagen\",\"Renault\",\"Mercedes\",\"Audi\",\"Kia\",\"Toyota\",\"Toyota\",\"Kia\",\"Ford\",\"BMW\",\"Audi\",\"Mercedes\",\"Hongqi\",\"Toyota\",\"Volkswagen\",\"CUPRA\",\"Porsche\",\"Lexus\",\"Renault\",\"Porsche\",\"Porsche\",\"Hyundai\",\"Peugeot\",\"Mercedes\",\"Dacia\",\"Porsche\",\"Toyota\",\"Skoda\",\"Mercedes\",\"Mazda\",\"Fiat\",\"Seres\",\"Tesla\",\"Audi\",\"Porsche\",\"Audi\",\"BMW\",\"Audi\",\"Peugeot\",\"Volkswagen\",\"Opel\",\"Tesla\",\"Peugeot\",\"Porsche\",\"Volkswagen\",\"Fiat\",\"Audi\",\"Volkswagen\",\"Mercedes\",\"Opel\",\"Renault\",\"Jaguar\",\"Ford\",\"Citroen\",\"Tesla\",\"Citroen\",\"Toyota\",\"Audi\",\"Mercedes\",\"Peugeot\",\"Porsche\",\"Opel\",\"Renault\",\"Opel\",\"Citroen\",\"Fiat\",\"Porsche\",\"CUPRA\",\"BMW\",\"Citroen\",\"Polestar\",\"Audi\",\"Fiat\",\"Audi\",\"Volkswagen\",\"Porsche\",\"Mercedes\",\"Mercedes\",\"Ford\",\"Mini\",\"Tesla\",\"Mercedes\",\"Citroen\",\"Hongqi\",\"Ford\",\"BMW\",\"Opel\",\"Subaru\",\"Ford\",\"Honda\",\"Porsche\",\"Volkswagen\",\"Porsche\",\"Volkswagen\",\"Citroen\",\"Audi\",\"Peugeot\"],\"x0\":\" \",\"xaxis\":\"x\",\"y\":[7.8,6.2,3.2,5.7,7.9,8.9,8.7,3.3,6.9,3.2,8.6,4.9,4.7,9.0,6.7,7.3,11.7,11.7,3.5,5.1,5.5,4.0,8.5,12.1,4.9,10.9,6.8,4.7,6.9,9.0,7.8,8.7,4.3,12.1,7.9,12.1,8.5,7.4,7.3,8.5,6.0,9.7,12.1,3.5,8.6,13.1,4.4,8.5,7.7,4.0,3.4,7.9,4.2,7.9,3.9,7.0,8.5,4.5,12.1,8.3,12.1,3.7,13.1,6.9,6.3,8.6,14.3,5.6,4.8,9.0,9.9,9.0,13.1,12.0,6.9,8.8,8.3,10.2,3.8,5.1,13.1,8.4,7.4,4.0,4.7,10.5,12.1,4.5,7.7,8.6,5.2,7.3,8.1,6.0,6.7,13.3,9.0,10.4,10.0,7.6,6.8,9.9,13.1,13.1,8.5,5.8,4.6,3.3,6.4,4.9,12.1,10.4,7.0,5.4,7.5,11.4,4.1,5.4,5.1,11.7,13.1,19.1,2.9,13.1,8.7,4.2,9.7,9.0,8.9,4.4,5.7,2.8,6.9,6.1,4.1,13.1,6.3,12.1,5.0,14.3,5.4,6.9,9.0,6.2,7.3,6.4,9.2,7.4,4.8,5.8,13.3,3.7,13.3,7.5,6.8,6.2,14.3,4.0,12.1,9.5,8.1,12.1,13.3,3.7,6.6,4.7,13.3,7.4,5.7,13.3,8.5,6.2,4.0,8.0,9.2,4.4,7.3,3.3,5.6,13.3,6.5,6.9,3.9,13.3,6.9,6.3,9.0,5.4,8.4,2.8,7.9,11.7,6.2,14.3],\"y0\":\" \",\"yaxis\":\"y\",\"type\":\"box\"}],                        {\"template\":{\"data\":{\"histogram2dcontour\":[{\"type\":\"histogram2dcontour\",\"colorbar\":{\"outlinewidth\":0,\"ticks\":\"\"},\"colorscale\":[[0.0,\"#0d0887\"],[0.1111111111111111,\"#46039f\"],[0.2222222222222222,\"#7201a8\"],[0.3333333333333333,\"#9c179e\"],[0.4444444444444444,\"#bd3786\"],[0.5555555555555556,\"#d8576b\"],[0.6666666666666666,\"#ed7953\"],[0.7777777777777778,\"#fb9f3a\"],[0.8888888888888888,\"#fdca26\"],[1.0,\"#f0f921\"]]}],\"choropleth\":[{\"type\":\"choropleth\",\"colorbar\":{\"outlinewidth\":0,\"ticks\":\"\"}}],\"histogram2d\":[{\"type\":\"histogram2d\",\"colorbar\":{\"outlinewidth\":0,\"ticks\":\"\"},\"colorscale\":[[0.0,\"#0d0887\"],[0.1111111111111111,\"#46039f\"],[0.2222222222222222,\"#7201a8\"],[0.3333333333333333,\"#9c179e\"],[0.4444444444444444,\"#bd3786\"],[0.5555555555555556,\"#d8576b\"],[0.6666666666666666,\"#ed7953\"],[0.7777777777777778,\"#fb9f3a\"],[0.8888888888888888,\"#fdca26\"],[1.0,\"#f0f921\"]]}],\"heatmap\":[{\"type\":\"heatmap\",\"colorbar\":{\"outlinewidth\":0,\"ticks\":\"\"},\"colorscale\":[[0.0,\"#0d0887\"],[0.1111111111111111,\"#46039f\"],[0.2222222222222222,\"#7201a8\"],[0.3333333333333333,\"#9c179e\"],[0.4444444444444444,\"#bd3786\"],[0.5555555555555556,\"#d8576b\"],[0.6666666666666666,\"#ed7953\"],[0.7777777777777778,\"#fb9f3a\"],[0.8888888888888888,\"#fdca26\"],[1.0,\"#f0f921\"]]}],\"heatmapgl\":[{\"type\":\"heatmapgl\",\"colorbar\":{\"outlinewidth\":0,\"ticks\":\"\"},\"colorscale\":[[0.0,\"#0d0887\"],[0.1111111111111111,\"#46039f\"],[0.2222222222222222,\"#7201a8\"],[0.3333333333333333,\"#9c179e\"],[0.4444444444444444,\"#bd3786\"],[0.5555555555555556,\"#d8576b\"],[0.6666666666666666,\"#ed7953\"],[0.7777777777777778,\"#fb9f3a\"],[0.8888888888888888,\"#fdca26\"],[1.0,\"#f0f921\"]]}],\"contourcarpet\":[{\"type\":\"contourcarpet\",\"colorbar\":{\"outlinewidth\":0,\"ticks\":\"\"}}],\"contour\":[{\"type\":\"contour\",\"colorbar\":{\"outlinewidth\":0,\"ticks\":\"\"},\"colorscale\":[[0.0,\"#0d0887\"],[0.1111111111111111,\"#46039f\"],[0.2222222222222222,\"#7201a8\"],[0.3333333333333333,\"#9c179e\"],[0.4444444444444444,\"#bd3786\"],[0.5555555555555556,\"#d8576b\"],[0.6666666666666666,\"#ed7953\"],[0.7777777777777778,\"#fb9f3a\"],[0.8888888888888888,\"#fdca26\"],[1.0,\"#f0f921\"]]}],\"surface\":[{\"type\":\"surface\",\"colorbar\":{\"outlinewidth\":0,\"ticks\":\"\"},\"colorscale\":[[0.0,\"#0d0887\"],[0.1111111111111111,\"#46039f\"],[0.2222222222222222,\"#7201a8\"],[0.3333333333333333,\"#9c179e\"],[0.4444444444444444,\"#bd3786\"],[0.5555555555555556,\"#d8576b\"],[0.6666666666666666,\"#ed7953\"],[0.7777777777777778,\"#fb9f3a\"],[0.8888888888888888,\"#fdca26\"],[1.0,\"#f0f921\"]]}],\"mesh3d\":[{\"type\":\"mesh3d\",\"colorbar\":{\"outlinewidth\":0,\"ticks\":\"\"}}],\"scatter\":[{\"fillpattern\":{\"fillmode\":\"overlay\",\"size\":10,\"solidity\":0.2},\"type\":\"scatter\"}],\"parcoords\":[{\"type\":\"parcoords\",\"line\":{\"colorbar\":{\"outlinewidth\":0,\"ticks\":\"\"}}}],\"scatterpolargl\":[{\"type\":\"scatterpolargl\",\"marker\":{\"colorbar\":{\"outlinewidth\":0,\"ticks\":\"\"}}}],\"bar\":[{\"error_x\":{\"color\":\"#2a3f5f\"},\"error_y\":{\"color\":\"#2a3f5f\"},\"marker\":{\"line\":{\"color\":\"#E5ECF6\",\"width\":0.5},\"pattern\":{\"fillmode\":\"overlay\",\"size\":10,\"solidity\":0.2}},\"type\":\"bar\"}],\"scattergeo\":[{\"type\":\"scattergeo\",\"marker\":{\"colorbar\":{\"outlinewidth\":0,\"ticks\":\"\"}}}],\"scatterpolar\":[{\"type\":\"scatterpolar\",\"marker\":{\"colorbar\":{\"outlinewidth\":0,\"ticks\":\"\"}}}],\"histogram\":[{\"marker\":{\"pattern\":{\"fillmode\":\"overlay\",\"size\":10,\"solidity\":0.2}},\"type\":\"histogram\"}],\"scattergl\":[{\"type\":\"scattergl\",\"marker\":{\"colorbar\":{\"outlinewidth\":0,\"ticks\":\"\"}}}],\"scatter3d\":[{\"type\":\"scatter3d\",\"line\":{\"colorbar\":{\"outlinewidth\":0,\"ticks\":\"\"}},\"marker\":{\"colorbar\":{\"outlinewidth\":0,\"ticks\":\"\"}}}],\"scattermapbox\":[{\"type\":\"scattermapbox\",\"marker\":{\"colorbar\":{\"outlinewidth\":0,\"ticks\":\"\"}}}],\"scatterternary\":[{\"type\":\"scatterternary\",\"marker\":{\"colorbar\":{\"outlinewidth\":0,\"ticks\":\"\"}}}],\"scattercarpet\":[{\"type\":\"scattercarpet\",\"marker\":{\"colorbar\":{\"outlinewidth\":0,\"ticks\":\"\"}}}],\"carpet\":[{\"aaxis\":{\"endlinecolor\":\"#2a3f5f\",\"gridcolor\":\"white\",\"linecolor\":\"white\",\"minorgridcolor\":\"white\",\"startlinecolor\":\"#2a3f5f\"},\"baxis\":{\"endlinecolor\":\"#2a3f5f\",\"gridcolor\":\"white\",\"linecolor\":\"white\",\"minorgridcolor\":\"white\",\"startlinecolor\":\"#2a3f5f\"},\"type\":\"carpet\"}],\"table\":[{\"cells\":{\"fill\":{\"color\":\"#EBF0F8\"},\"line\":{\"color\":\"white\"}},\"header\":{\"fill\":{\"color\":\"#C8D4E3\"},\"line\":{\"color\":\"white\"}},\"type\":\"table\"}],\"barpolar\":[{\"marker\":{\"line\":{\"color\":\"#E5ECF6\",\"width\":0.5},\"pattern\":{\"fillmode\":\"overlay\",\"size\":10,\"solidity\":0.2}},\"type\":\"barpolar\"}],\"pie\":[{\"automargin\":true,\"type\":\"pie\"}]},\"layout\":{\"autotypenumbers\":\"strict\",\"colorway\":[\"#636efa\",\"#EF553B\",\"#00cc96\",\"#ab63fa\",\"#FFA15A\",\"#19d3f3\",\"#FF6692\",\"#B6E880\",\"#FF97FF\",\"#FECB52\"],\"font\":{\"color\":\"#2a3f5f\"},\"hovermode\":\"closest\",\"hoverlabel\":{\"align\":\"left\"},\"paper_bgcolor\":\"white\",\"plot_bgcolor\":\"#E5ECF6\",\"polar\":{\"bgcolor\":\"#E5ECF6\",\"angularaxis\":{\"gridcolor\":\"white\",\"linecolor\":\"white\",\"ticks\":\"\"},\"radialaxis\":{\"gridcolor\":\"white\",\"linecolor\":\"white\",\"ticks\":\"\"}},\"ternary\":{\"bgcolor\":\"#E5ECF6\",\"aaxis\":{\"gridcolor\":\"white\",\"linecolor\":\"white\",\"ticks\":\"\"},\"baxis\":{\"gridcolor\":\"white\",\"linecolor\":\"white\",\"ticks\":\"\"},\"caxis\":{\"gridcolor\":\"white\",\"linecolor\":\"white\",\"ticks\":\"\"}},\"coloraxis\":{\"colorbar\":{\"outlinewidth\":0,\"ticks\":\"\"}},\"colorscale\":{\"sequential\":[[0.0,\"#0d0887\"],[0.1111111111111111,\"#46039f\"],[0.2222222222222222,\"#7201a8\"],[0.3333333333333333,\"#9c179e\"],[0.4444444444444444,\"#bd3786\"],[0.5555555555555556,\"#d8576b\"],[0.6666666666666666,\"#ed7953\"],[0.7777777777777778,\"#fb9f3a\"],[0.8888888888888888,\"#fdca26\"],[1.0,\"#f0f921\"]],\"sequentialminus\":[[0.0,\"#0d0887\"],[0.1111111111111111,\"#46039f\"],[0.2222222222222222,\"#7201a8\"],[0.3333333333333333,\"#9c179e\"],[0.4444444444444444,\"#bd3786\"],[0.5555555555555556,\"#d8576b\"],[0.6666666666666666,\"#ed7953\"],[0.7777777777777778,\"#fb9f3a\"],[0.8888888888888888,\"#fdca26\"],[1.0,\"#f0f921\"]],\"diverging\":[[0,\"#8e0152\"],[0.1,\"#c51b7d\"],[0.2,\"#de77ae\"],[0.3,\"#f1b6da\"],[0.4,\"#fde0ef\"],[0.5,\"#f7f7f7\"],[0.6,\"#e6f5d0\"],[0.7,\"#b8e186\"],[0.8,\"#7fbc41\"],[0.9,\"#4d9221\"],[1,\"#276419\"]]},\"xaxis\":{\"gridcolor\":\"white\",\"linecolor\":\"white\",\"ticks\":\"\",\"title\":{\"standoff\":15},\"zerolinecolor\":\"white\",\"automargin\":true,\"zerolinewidth\":2},\"yaxis\":{\"gridcolor\":\"white\",\"linecolor\":\"white\",\"ticks\":\"\",\"title\":{\"standoff\":15},\"zerolinecolor\":\"white\",\"automargin\":true,\"zerolinewidth\":2},\"scene\":{\"xaxis\":{\"backgroundcolor\":\"#E5ECF6\",\"gridcolor\":\"white\",\"linecolor\":\"white\",\"showbackground\":true,\"ticks\":\"\",\"zerolinecolor\":\"white\",\"gridwidth\":2},\"yaxis\":{\"backgroundcolor\":\"#E5ECF6\",\"gridcolor\":\"white\",\"linecolor\":\"white\",\"showbackground\":true,\"ticks\":\"\",\"zerolinecolor\":\"white\",\"gridwidth\":2},\"zaxis\":{\"backgroundcolor\":\"#E5ECF6\",\"gridcolor\":\"white\",\"linecolor\":\"white\",\"showbackground\":true,\"ticks\":\"\",\"zerolinecolor\":\"white\",\"gridwidth\":2}},\"shapedefaults\":{\"line\":{\"color\":\"#2a3f5f\"}},\"annotationdefaults\":{\"arrowcolor\":\"#2a3f5f\",\"arrowhead\":0,\"arrowwidth\":1},\"geo\":{\"bgcolor\":\"white\",\"landcolor\":\"#E5ECF6\",\"subunitcolor\":\"white\",\"showland\":true,\"showlakes\":true,\"lakecolor\":\"white\"},\"title\":{\"x\":0.05},\"mapbox\":{\"style\":\"light\"}}},\"xaxis\":{\"anchor\":\"y\",\"domain\":[0.0,1.0],\"title\":{\"text\":\"Make\"}},\"yaxis\":{\"anchor\":\"x\",\"domain\":[0.0,1.0],\"title\":{\"text\":\"Acceleration 0 - 100 km/h\"}},\"legend\":{\"tracegroupgap\":0},\"margin\":{\"t\":60},\"boxmode\":\"group\"},                        {\"responsive\": true}                    ).then(function(){\n",
       "                            \n",
       "var gd = document.getElementById('185d23a2-1cb1-49cf-80d3-1aa4e8014ac4');\n",
       "var x = new MutationObserver(function (mutations, observer) {{\n",
       "        var display = window.getComputedStyle(gd).display;\n",
       "        if (!display || display === 'none') {{\n",
       "            console.log([gd, 'removed!']);\n",
       "            Plotly.purge(gd);\n",
       "            observer.disconnect();\n",
       "        }}\n",
       "}});\n",
       "\n",
       "// Listen for the removal of the full notebook cells\n",
       "var notebookContainer = gd.closest('#notebook-container');\n",
       "if (notebookContainer) {{\n",
       "    x.observe(notebookContainer, {childList: true});\n",
       "}}\n",
       "\n",
       "// Listen for the clearing of the current output cell\n",
       "var outputEl = gd.closest('.output');\n",
       "if (outputEl) {{\n",
       "    x.observe(outputEl, {childList: true});\n",
       "}}\n",
       "\n",
       "                        })                };                });            </script>        </div>"
      ]
     },
     "metadata": {},
     "output_type": "display_data"
    }
   ],
   "source": [
    "#Here we use a boxplot data visualization so we can better answer our question\n",
    "fig = px.box(df, x=\"Make\", y=\"Acceleration 0 - 100 km/h\")\n",
    "fig.show()"
   ]
  },
  {
   "cell_type": "code",
   "execution_count": 8,
   "id": "ecf0fe92",
   "metadata": {},
   "outputs": [
    {
     "data": {
      "application/vnd.plotly.v1+json": {
       "config": {
        "plotlyServerURL": "https://plot.ly"
       },
       "data": [
        {
         "coloraxis": "coloraxis",
         "hovertemplate": "x: %{x}<br>y: %{y}<br>color: %{z}<extra></extra>",
         "name": "0",
         "texttemplate": "%{z}",
         "type": "heatmap",
         "x": [
          "id",
          "City - Cold Weather",
          "Highway - Cold Weather",
          "Combined - Cold Weather",
          "City - Mild Weather",
          "Highway - Mild Weather",
          "Combined - Mild Weather",
          "Acceleration 0 - 100 km/h",
          "Top Speed",
          "Electric Range",
          "Total Power",
          "Total Torque",
          "Battery Capacity",
          "Charge Power",
          "Charge Speed",
          "Fastcharge Speed",
          "Length",
          "Width",
          "Height",
          "Wheelbase",
          "Gross Vehicle Weight (GVWR)",
          "Max. Payload",
          "Cargo Volume",
          "Seats"
         ],
         "xaxis": "x",
         "y": [
          "id",
          "City - Cold Weather",
          "Highway - Cold Weather",
          "Combined - Cold Weather",
          "City - Mild Weather",
          "Highway - Mild Weather",
          "Combined - Mild Weather",
          "Acceleration 0 - 100 km/h",
          "Top Speed",
          "Electric Range",
          "Total Power",
          "Total Torque",
          "Battery Capacity",
          "Charge Power",
          "Charge Speed",
          "Fastcharge Speed",
          "Length",
          "Width",
          "Height",
          "Wheelbase",
          "Gross Vehicle Weight (GVWR)",
          "Max. Payload",
          "Cargo Volume",
          "Seats"
         ],
         "yaxis": "y",
         "z": [
          [
           1,
           0.1486427370306855,
           0.1256777236326003,
           0.13395646483001222,
           0.13266683600889637,
           0.11758083741771433,
           0.12241799842540413,
           -0.016638649585857753,
           0.001646152216574382,
           0.12828865625371244,
           0.00021532850559270516,
           0.07690219621240896,
           0.15045256658544792,
           -0.02537509693393621,
           -0.06992465185438108,
           -0.006527073914645356,
           0.1447987116191496,
           0.09220192267617171,
           0.13208113628908985,
           0.20759529601408971,
           0.12711320792768901,
           -0.006921023122856163,
           0.009927492882963426,
           0.10659918708591422
          ],
          [
           0.1486427370306855,
           1,
           0.9938771000366993,
           0.9976706309713034,
           0.9954031461480944,
           0.98960484233744,
           0.9927018023046471,
           -0.6873483843945857,
           0.6901906453599063,
           0.9956108684126623,
           0.6344540531995501,
           0.6173196636438448,
           0.8929944801837899,
           0.38706074868669893,
           0.3799216611409724,
           0.6815409033212129,
           0.2583529664499865,
           0.3153362238589077,
           -0.4825698177701975,
           0.10660594497872235,
           0.31674874415647286,
           -0.3337125654749959,
           -0.10465141358899895,
           -0.4565578095924306
          ],
          [
           0.1256777236326003,
           0.9938771000366993,
           1,
           0.9987453191346172,
           0.9959481428868119,
           0.9988539325632539,
           0.9987010827014589,
           -0.7138545523947658,
           0.7176891289523802,
           0.9992154600479213,
           0.6516591083594211,
           0.6281198561309329,
           0.8671666715694779,
           0.39620884610136126,
           0.4101968340608323,
           0.7095453175422953,
           0.23415325761326125,
           0.2910666901062413,
           -0.5451055714569276,
           0.07096870227712919,
           0.2819896962709587,
           -0.36503575214763784,
           -0.1386730055623727,
           -0.5010877660783167
          ],
          [
           0.13395646483001222,
           0.9976706309713034,
           0.9987453191346172,
           1,
           0.997390142496451,
           0.9966436170126127,
           0.9978908707249495,
           -0.706069574243589,
           0.7084480777408626,
           0.9992980930732001,
           0.6450640060630681,
           0.6238571149619637,
           0.877135070260395,
           0.3936391880861068,
           0.4000401850742983,
           0.7012826428555614,
           0.24111769036773634,
           0.29986274137761504,
           -0.5227410023854182,
           0.08222273232512235,
           0.29407184166511624,
           -0.3544034411511837,
           -0.1283345438423169,
           -0.48563280497687766
          ],
          [
           0.13266683600889637,
           0.9954031461480944,
           0.9959481428868119,
           0.997390142496451,
           1,
           0.9954820995959138,
           0.9981643108524302,
           -0.6949272387250345,
           0.6837656294614097,
           0.9982620005130296,
           0.6091902408209602,
           0.5849176551593673,
           0.8496222298960637,
           0.40317815532543666,
           0.42662958030285264,
           0.6822001215349609,
           0.19231547961475992,
           0.24808826601026043,
           -0.5340706915185942,
           0.04145445983472254,
           0.24071520394947904,
           -0.38749662755530856,
           -0.1526168262646499,
           -0.501401527791872
          ],
          [
           0.11758083741771433,
           0.98960484233744,
           0.9988539325632539,
           0.9966436170126127,
           0.9954820995959138,
           1,
           0.9992066844397707,
           -0.716631067266713,
           0.7157846840943237,
           0.9984006435241529,
           0.6418217302257541,
           0.6153973366302643,
           0.8469006919767352,
           0.3994034524235364,
           0.4268981032105464,
           0.7125650591082278,
           0.20887997074753736,
           0.2644479100843869,
           -0.5675850829459278,
           0.046287670002231385,
           0.2513086405488625,
           -0.38502869111351884,
           -0.15938904394471523,
           -0.5184914931005254
          ],
          [
           0.12241799842540413,
           0.9927018023046471,
           0.9987010827014589,
           0.9978908707249495,
           0.9981643108524302,
           0.9992066844397707,
           1,
           -0.708976531682828,
           0.7030936613796973,
           0.9993404627556475,
           0.628608904253766,
           0.6031528462668151,
           0.8479816996020542,
           0.40165567262717294,
           0.42805747564743535,
           0.7015612555704087,
           0.20172088651837455,
           0.25735227384762127,
           -0.5549525419542277,
           0.042970714127157666,
           0.2469004765092802,
           -0.38703876425274863,
           -0.15606174734301212,
           -0.5124086120008905
          ],
          [
           -0.016638649585857753,
           -0.6873483843945857,
           -0.7138545523947658,
           -0.706069574243589,
           -0.6949272387250345,
           -0.716631067266713,
           -0.708976531682828,
           1,
           -0.8724948817046443,
           -0.7081723103731633,
           -0.8367034839178972,
           -0.7847170659739021,
           -0.5680016433170187,
           -0.3988548782357664,
           -0.405162644396971,
           -0.711806044765634,
           0.009513124212621307,
           -0.22077717673660519,
           0.7386446949345031,
           0.23926384854802574,
           -0.05426824979248951,
           0.5578704912344484,
           0.40717255684256015,
           0.7269342500780505
          ],
          [
           0.001646152216574382,
           0.6901906453599063,
           0.7176891289523802,
           0.7084480777408626,
           0.6837656294614097,
           0.7157846840943237,
           0.7030936613796973,
           -0.8724948817046443,
           1,
           0.7067070514789756,
           0.9220497153017813,
           0.829415059635821,
           0.6646362362257665,
           0.3161463419479049,
           0.2845013023003275,
           0.8254546296313229,
           0.24458124064810216,
           0.44062729961408686,
           -0.6760733273209252,
           -0.0063904501220531425,
           0.25108452137467857,
           -0.32818370737786284,
           -0.2158613236483706,
           -0.5972537760743529
          ],
          [
           0.12828865625371244,
           0.9956108684126623,
           0.9992154600479213,
           0.9992980930732001,
           0.9982620005130296,
           0.9984006435241529,
           0.9993404627556475,
           -0.7081723103731633,
           0.7067070514789756,
           1,
           0.6374013070805762,
           0.6140727988440281,
           0.8630621069974584,
           0.3983949429216171,
           0.4150193037224518,
           0.70159528886084,
           0.21982558335378025,
           0.2779753224718259,
           -0.5401061389669132,
           0.06122733505004695,
           0.26925811410489386,
           -0.3736257046821827,
           -0.14522006111614608,
           -0.5008426134428164
          ],
          [
           0.00021532850559270516,
           0.6344540531995501,
           0.6516591083594211,
           0.6450640060630681,
           0.6091902408209602,
           0.6418217302257541,
           0.628608904253766,
           -0.8367034839178972,
           0.9220497153017813,
           0.6374013070805762,
           1,
           0.9059293336139583,
           0.6985669551426195,
           0.2863832640965555,
           0.18499680959599385,
           0.7457618353647484,
           0.34656971994952457,
           0.5267071776382903,
           -0.5331539396620862,
           0.11450606437297682,
           0.39440605460688216,
           -0.18727217653042355,
           -0.13429440954229724,
           -0.4606610377187662
          ],
          [
           0.07690219621240896,
           0.6173196636438448,
           0.6281198561309329,
           0.6238571149619637,
           0.5849176551593673,
           0.6153973366302643,
           0.6031528462668151,
           -0.7847170659739021,
           0.829415059635821,
           0.6140727988440281,
           0.9059293336139583,
           1,
           0.7136921114249353,
           0.25650025845247326,
           0.13246413452139982,
           0.6085856068418464,
           0.34706011869864284,
           0.4961852472839265,
           -0.4223162912584758,
           0.16958467310996603,
           0.43359849380631105,
           -0.19758329692145876,
           -0.11934871815938233,
           -0.3825407505623672
          ],
          [
           0.15045256658544792,
           0.8929944801837899,
           0.8671666715694779,
           0.877135070260395,
           0.8496222298960637,
           0.8469006919767352,
           0.8479816996020542,
           -0.5680016433170187,
           0.6646362362257665,
           0.8630621069974584,
           0.6985669551426195,
           0.7136921114249353,
           1,
           0.24072361791845728,
           0.1006403510123171,
           0.6132681671814371,
           0.5642533585577357,
           0.6104758694784,
           -0.21598139476220066,
           0.42212773480273086,
           0.6566272993020739,
           -0.017507263740065015,
           0.14593395932061887,
           -0.19501483823710672
          ],
          [
           -0.02537509693393621,
           0.38706074868669893,
           0.39620884610136126,
           0.3936391880861068,
           0.40317815532543666,
           0.3994034524235364,
           0.40165567262717294,
           -0.3988548782357664,
           0.3161463419479049,
           0.3983949429216171,
           0.2863832640965555,
           0.25650025845247326,
           0.24072361791845728,
           1,
           0.9341057069336413,
           0.30376229117147563,
           -0.18440449683400958,
           -0.08699987877446007,
           -0.391896764137423,
           -0.23096858155800815,
           -0.08322318274890088,
           -0.33026341324765063,
           -0.2126362457740923,
           -0.40624050433266534
          ],
          [
           -0.06992465185438108,
           0.3799216611409724,
           0.4101968340608323,
           0.4000401850742983,
           0.42662958030285264,
           0.4268981032105464,
           0.42805747564743535,
           -0.405162644396971,
           0.2845013023003275,
           0.4150193037224518,
           0.18499680959599385,
           0.13246413452139982,
           0.1006403510123171,
           0.9341057069336413,
           1,
           0.30079686526013294,
           -0.4092036336846861,
           -0.32703710180203116,
           -0.5664950281647203,
           -0.450205187265744,
           -0.35336863197320945,
           -0.518862743074596,
           -0.3932968377608441,
           -0.552493800787215
          ],
          [
           -0.006527073914645356,
           0.6815409033212129,
           0.7095453175422953,
           0.7012826428555614,
           0.6822001215349609,
           0.7125650591082278,
           0.7015612555704087,
           -0.711806044765634,
           0.8254546296313229,
           0.70159528886084,
           0.7457618353647484,
           0.6085856068418464,
           0.6132681671814371,
           0.30376229117147563,
           0.30079686526013294,
           1,
           0.24403932821388175,
           0.4143914926235924,
           -0.624198335957247,
           0.05165505921259248,
           0.24517019574010407,
           -0.21508859872379202,
           -0.1554721474903374,
           -0.49930532511789305
          ],
          [
           0.1447987116191496,
           0.2583529664499865,
           0.23415325761326125,
           0.24111769036773634,
           0.19231547961475992,
           0.20887997074753736,
           0.20172088651837455,
           0.009513124212621307,
           0.24458124064810216,
           0.21982558335378025,
           0.34656971994952457,
           0.34706011869864284,
           0.5642533585577357,
           -0.18440449683400958,
           -0.4092036336846861,
           0.24403932821388175,
           1,
           0.8590183240743963,
           0.367422993113343,
           0.9000072788293788,
           0.9075872800139005,
           0.6657787092332669,
           0.6631327645666166,
           0.49810881619562275
          ],
          [
           0.09220192267617171,
           0.3153362238589077,
           0.2910666901062413,
           0.29986274137761504,
           0.24808826601026043,
           0.2644479100843869,
           0.25735227384762127,
           -0.22077717673660519,
           0.44062729961408686,
           0.2779753224718259,
           0.5267071776382903,
           0.4961852472839265,
           0.6104758694784,
           -0.08699987877446007,
           -0.32703710180203116,
           0.4143914926235924,
           0.8590183240743963,
           1,
           0.2121974283037415,
           0.7345119632905667,
           0.8539592389404236,
           0.5039634408963738,
           0.46667524363920676,
           0.2421677137067458
          ],
          [
           0.13208113628908985,
           -0.4825698177701975,
           -0.5451055714569276,
           -0.5227410023854182,
           -0.5340706915185942,
           -0.5675850829459278,
           -0.5549525419542277,
           0.7386446949345031,
           -0.6760733273209252,
           -0.5401061389669132,
           -0.5331539396620862,
           -0.4223162912584758,
           -0.21598139476220066,
           -0.391896764137423,
           -0.5664950281647203,
           -0.624198335957247,
           0.367422993113343,
           0.2121974283037415,
           1,
           0.5761037404696463,
           0.39140478360800135,
           0.7206574159785974,
           0.6485676444288223,
           0.8768184100052625
          ],
          [
           0.20759529601408971,
           0.10660594497872235,
           0.07096870227712919,
           0.08222273232512235,
           0.04145445983472254,
           0.046287670002231385,
           0.042970714127157666,
           0.23926384854802574,
           -0.0063904501220531425,
           0.06122733505004695,
           0.11450606437297682,
           0.16958467310996603,
           0.42212773480273086,
           -0.23096858155800815,
           -0.450205187265744,
           0.05165505921259248,
           0.9000072788293788,
           0.7345119632905667,
           0.5761037404696463,
           1,
           0.8582412566708228,
           0.7886985209279027,
           0.6489658340622428,
           0.701977657128417
          ],
          [
           0.12711320792768901,
           0.31674874415647286,
           0.2819896962709587,
           0.29407184166511624,
           0.24071520394947904,
           0.2513086405488625,
           0.2469004765092802,
           -0.05426824979248951,
           0.25108452137467857,
           0.26925811410489386,
           0.39440605460688216,
           0.43359849380631105,
           0.6566272993020739,
           -0.08322318274890088,
           -0.35336863197320945,
           0.24517019574010407,
           0.9075872800139005,
           0.8539592389404236,
           0.39140478360800135,
           0.8582412566708228,
           1,
           0.6727163928889461,
           0.5923757533155636,
           0.4502581553964928
          ],
          [
           -0.006921023122856163,
           -0.3337125654749959,
           -0.36503575214763784,
           -0.3544034411511837,
           -0.38749662755530856,
           -0.38502869111351884,
           -0.38703876425274863,
           0.5578704912344484,
           -0.32818370737786284,
           -0.3736257046821827,
           -0.18727217653042355,
           -0.19758329692145876,
           -0.017507263740065015,
           -0.33026341324765063,
           -0.518862743074596,
           -0.21508859872379202,
           0.6657787092332669,
           0.5039634408963738,
           0.7206574159785974,
           0.7886985209279027,
           0.6727163928889461,
           1,
           0.6455053974286413,
           0.8447352835302202
          ],
          [
           0.009927492882963426,
           -0.10465141358899895,
           -0.1386730055623727,
           -0.1283345438423169,
           -0.1526168262646499,
           -0.15938904394471523,
           -0.15606174734301212,
           0.40717255684256015,
           -0.2158613236483706,
           -0.14522006111614608,
           -0.13429440954229724,
           -0.11934871815938233,
           0.14593395932061887,
           -0.2126362457740923,
           -0.3932968377608441,
           -0.1554721474903374,
           0.6631327645666166,
           0.46667524363920676,
           0.6485676444288223,
           0.6489658340622428,
           0.5923757533155636,
           0.6455053974286413,
           1,
           0.6236025885235632
          ],
          [
           0.10659918708591422,
           -0.4565578095924306,
           -0.5010877660783167,
           -0.48563280497687766,
           -0.501401527791872,
           -0.5184914931005254,
           -0.5124086120008905,
           0.7269342500780505,
           -0.5972537760743529,
           -0.5008426134428164,
           -0.4606610377187662,
           -0.3825407505623672,
           -0.19501483823710672,
           -0.40624050433266534,
           -0.552493800787215,
           -0.49930532511789305,
           0.49810881619562275,
           0.2421677137067458,
           0.8768184100052625,
           0.701977657128417,
           0.4502581553964928,
           0.8447352835302202,
           0.6236025885235632,
           1
          ]
         ]
        }
       ],
       "layout": {
        "coloraxis": {
         "colorscale": [
          [
           0,
           "#0d0887"
          ],
          [
           0.1111111111111111,
           "#46039f"
          ],
          [
           0.2222222222222222,
           "#7201a8"
          ],
          [
           0.3333333333333333,
           "#9c179e"
          ],
          [
           0.4444444444444444,
           "#bd3786"
          ],
          [
           0.5555555555555556,
           "#d8576b"
          ],
          [
           0.6666666666666666,
           "#ed7953"
          ],
          [
           0.7777777777777778,
           "#fb9f3a"
          ],
          [
           0.8888888888888888,
           "#fdca26"
          ],
          [
           1,
           "#f0f921"
          ]
         ]
        },
        "margin": {
         "t": 60
        },
        "template": {
         "data": {
          "bar": [
           {
            "error_x": {
             "color": "#2a3f5f"
            },
            "error_y": {
             "color": "#2a3f5f"
            },
            "marker": {
             "line": {
              "color": "#E5ECF6",
              "width": 0.5
             },
             "pattern": {
              "fillmode": "overlay",
              "size": 10,
              "solidity": 0.2
             }
            },
            "type": "bar"
           }
          ],
          "barpolar": [
           {
            "marker": {
             "line": {
              "color": "#E5ECF6",
              "width": 0.5
             },
             "pattern": {
              "fillmode": "overlay",
              "size": 10,
              "solidity": 0.2
             }
            },
            "type": "barpolar"
           }
          ],
          "carpet": [
           {
            "aaxis": {
             "endlinecolor": "#2a3f5f",
             "gridcolor": "white",
             "linecolor": "white",
             "minorgridcolor": "white",
             "startlinecolor": "#2a3f5f"
            },
            "baxis": {
             "endlinecolor": "#2a3f5f",
             "gridcolor": "white",
             "linecolor": "white",
             "minorgridcolor": "white",
             "startlinecolor": "#2a3f5f"
            },
            "type": "carpet"
           }
          ],
          "choropleth": [
           {
            "colorbar": {
             "outlinewidth": 0,
             "ticks": ""
            },
            "type": "choropleth"
           }
          ],
          "contour": [
           {
            "colorbar": {
             "outlinewidth": 0,
             "ticks": ""
            },
            "colorscale": [
             [
              0,
              "#0d0887"
             ],
             [
              0.1111111111111111,
              "#46039f"
             ],
             [
              0.2222222222222222,
              "#7201a8"
             ],
             [
              0.3333333333333333,
              "#9c179e"
             ],
             [
              0.4444444444444444,
              "#bd3786"
             ],
             [
              0.5555555555555556,
              "#d8576b"
             ],
             [
              0.6666666666666666,
              "#ed7953"
             ],
             [
              0.7777777777777778,
              "#fb9f3a"
             ],
             [
              0.8888888888888888,
              "#fdca26"
             ],
             [
              1,
              "#f0f921"
             ]
            ],
            "type": "contour"
           }
          ],
          "contourcarpet": [
           {
            "colorbar": {
             "outlinewidth": 0,
             "ticks": ""
            },
            "type": "contourcarpet"
           }
          ],
          "heatmap": [
           {
            "colorbar": {
             "outlinewidth": 0,
             "ticks": ""
            },
            "colorscale": [
             [
              0,
              "#0d0887"
             ],
             [
              0.1111111111111111,
              "#46039f"
             ],
             [
              0.2222222222222222,
              "#7201a8"
             ],
             [
              0.3333333333333333,
              "#9c179e"
             ],
             [
              0.4444444444444444,
              "#bd3786"
             ],
             [
              0.5555555555555556,
              "#d8576b"
             ],
             [
              0.6666666666666666,
              "#ed7953"
             ],
             [
              0.7777777777777778,
              "#fb9f3a"
             ],
             [
              0.8888888888888888,
              "#fdca26"
             ],
             [
              1,
              "#f0f921"
             ]
            ],
            "type": "heatmap"
           }
          ],
          "heatmapgl": [
           {
            "colorbar": {
             "outlinewidth": 0,
             "ticks": ""
            },
            "colorscale": [
             [
              0,
              "#0d0887"
             ],
             [
              0.1111111111111111,
              "#46039f"
             ],
             [
              0.2222222222222222,
              "#7201a8"
             ],
             [
              0.3333333333333333,
              "#9c179e"
             ],
             [
              0.4444444444444444,
              "#bd3786"
             ],
             [
              0.5555555555555556,
              "#d8576b"
             ],
             [
              0.6666666666666666,
              "#ed7953"
             ],
             [
              0.7777777777777778,
              "#fb9f3a"
             ],
             [
              0.8888888888888888,
              "#fdca26"
             ],
             [
              1,
              "#f0f921"
             ]
            ],
            "type": "heatmapgl"
           }
          ],
          "histogram": [
           {
            "marker": {
             "pattern": {
              "fillmode": "overlay",
              "size": 10,
              "solidity": 0.2
             }
            },
            "type": "histogram"
           }
          ],
          "histogram2d": [
           {
            "colorbar": {
             "outlinewidth": 0,
             "ticks": ""
            },
            "colorscale": [
             [
              0,
              "#0d0887"
             ],
             [
              0.1111111111111111,
              "#46039f"
             ],
             [
              0.2222222222222222,
              "#7201a8"
             ],
             [
              0.3333333333333333,
              "#9c179e"
             ],
             [
              0.4444444444444444,
              "#bd3786"
             ],
             [
              0.5555555555555556,
              "#d8576b"
             ],
             [
              0.6666666666666666,
              "#ed7953"
             ],
             [
              0.7777777777777778,
              "#fb9f3a"
             ],
             [
              0.8888888888888888,
              "#fdca26"
             ],
             [
              1,
              "#f0f921"
             ]
            ],
            "type": "histogram2d"
           }
          ],
          "histogram2dcontour": [
           {
            "colorbar": {
             "outlinewidth": 0,
             "ticks": ""
            },
            "colorscale": [
             [
              0,
              "#0d0887"
             ],
             [
              0.1111111111111111,
              "#46039f"
             ],
             [
              0.2222222222222222,
              "#7201a8"
             ],
             [
              0.3333333333333333,
              "#9c179e"
             ],
             [
              0.4444444444444444,
              "#bd3786"
             ],
             [
              0.5555555555555556,
              "#d8576b"
             ],
             [
              0.6666666666666666,
              "#ed7953"
             ],
             [
              0.7777777777777778,
              "#fb9f3a"
             ],
             [
              0.8888888888888888,
              "#fdca26"
             ],
             [
              1,
              "#f0f921"
             ]
            ],
            "type": "histogram2dcontour"
           }
          ],
          "mesh3d": [
           {
            "colorbar": {
             "outlinewidth": 0,
             "ticks": ""
            },
            "type": "mesh3d"
           }
          ],
          "parcoords": [
           {
            "line": {
             "colorbar": {
              "outlinewidth": 0,
              "ticks": ""
             }
            },
            "type": "parcoords"
           }
          ],
          "pie": [
           {
            "automargin": true,
            "type": "pie"
           }
          ],
          "scatter": [
           {
            "fillpattern": {
             "fillmode": "overlay",
             "size": 10,
             "solidity": 0.2
            },
            "type": "scatter"
           }
          ],
          "scatter3d": [
           {
            "line": {
             "colorbar": {
              "outlinewidth": 0,
              "ticks": ""
             }
            },
            "marker": {
             "colorbar": {
              "outlinewidth": 0,
              "ticks": ""
             }
            },
            "type": "scatter3d"
           }
          ],
          "scattercarpet": [
           {
            "marker": {
             "colorbar": {
              "outlinewidth": 0,
              "ticks": ""
             }
            },
            "type": "scattercarpet"
           }
          ],
          "scattergeo": [
           {
            "marker": {
             "colorbar": {
              "outlinewidth": 0,
              "ticks": ""
             }
            },
            "type": "scattergeo"
           }
          ],
          "scattergl": [
           {
            "marker": {
             "colorbar": {
              "outlinewidth": 0,
              "ticks": ""
             }
            },
            "type": "scattergl"
           }
          ],
          "scattermapbox": [
           {
            "marker": {
             "colorbar": {
              "outlinewidth": 0,
              "ticks": ""
             }
            },
            "type": "scattermapbox"
           }
          ],
          "scatterpolar": [
           {
            "marker": {
             "colorbar": {
              "outlinewidth": 0,
              "ticks": ""
             }
            },
            "type": "scatterpolar"
           }
          ],
          "scatterpolargl": [
           {
            "marker": {
             "colorbar": {
              "outlinewidth": 0,
              "ticks": ""
             }
            },
            "type": "scatterpolargl"
           }
          ],
          "scatterternary": [
           {
            "marker": {
             "colorbar": {
              "outlinewidth": 0,
              "ticks": ""
             }
            },
            "type": "scatterternary"
           }
          ],
          "surface": [
           {
            "colorbar": {
             "outlinewidth": 0,
             "ticks": ""
            },
            "colorscale": [
             [
              0,
              "#0d0887"
             ],
             [
              0.1111111111111111,
              "#46039f"
             ],
             [
              0.2222222222222222,
              "#7201a8"
             ],
             [
              0.3333333333333333,
              "#9c179e"
             ],
             [
              0.4444444444444444,
              "#bd3786"
             ],
             [
              0.5555555555555556,
              "#d8576b"
             ],
             [
              0.6666666666666666,
              "#ed7953"
             ],
             [
              0.7777777777777778,
              "#fb9f3a"
             ],
             [
              0.8888888888888888,
              "#fdca26"
             ],
             [
              1,
              "#f0f921"
             ]
            ],
            "type": "surface"
           }
          ],
          "table": [
           {
            "cells": {
             "fill": {
              "color": "#EBF0F8"
             },
             "line": {
              "color": "white"
             }
            },
            "header": {
             "fill": {
              "color": "#C8D4E3"
             },
             "line": {
              "color": "white"
             }
            },
            "type": "table"
           }
          ]
         },
         "layout": {
          "annotationdefaults": {
           "arrowcolor": "#2a3f5f",
           "arrowhead": 0,
           "arrowwidth": 1
          },
          "autotypenumbers": "strict",
          "coloraxis": {
           "colorbar": {
            "outlinewidth": 0,
            "ticks": ""
           }
          },
          "colorscale": {
           "diverging": [
            [
             0,
             "#8e0152"
            ],
            [
             0.1,
             "#c51b7d"
            ],
            [
             0.2,
             "#de77ae"
            ],
            [
             0.3,
             "#f1b6da"
            ],
            [
             0.4,
             "#fde0ef"
            ],
            [
             0.5,
             "#f7f7f7"
            ],
            [
             0.6,
             "#e6f5d0"
            ],
            [
             0.7,
             "#b8e186"
            ],
            [
             0.8,
             "#7fbc41"
            ],
            [
             0.9,
             "#4d9221"
            ],
            [
             1,
             "#276419"
            ]
           ],
           "sequential": [
            [
             0,
             "#0d0887"
            ],
            [
             0.1111111111111111,
             "#46039f"
            ],
            [
             0.2222222222222222,
             "#7201a8"
            ],
            [
             0.3333333333333333,
             "#9c179e"
            ],
            [
             0.4444444444444444,
             "#bd3786"
            ],
            [
             0.5555555555555556,
             "#d8576b"
            ],
            [
             0.6666666666666666,
             "#ed7953"
            ],
            [
             0.7777777777777778,
             "#fb9f3a"
            ],
            [
             0.8888888888888888,
             "#fdca26"
            ],
            [
             1,
             "#f0f921"
            ]
           ],
           "sequentialminus": [
            [
             0,
             "#0d0887"
            ],
            [
             0.1111111111111111,
             "#46039f"
            ],
            [
             0.2222222222222222,
             "#7201a8"
            ],
            [
             0.3333333333333333,
             "#9c179e"
            ],
            [
             0.4444444444444444,
             "#bd3786"
            ],
            [
             0.5555555555555556,
             "#d8576b"
            ],
            [
             0.6666666666666666,
             "#ed7953"
            ],
            [
             0.7777777777777778,
             "#fb9f3a"
            ],
            [
             0.8888888888888888,
             "#fdca26"
            ],
            [
             1,
             "#f0f921"
            ]
           ]
          },
          "colorway": [
           "#636efa",
           "#EF553B",
           "#00cc96",
           "#ab63fa",
           "#FFA15A",
           "#19d3f3",
           "#FF6692",
           "#B6E880",
           "#FF97FF",
           "#FECB52"
          ],
          "font": {
           "color": "#2a3f5f"
          },
          "geo": {
           "bgcolor": "white",
           "lakecolor": "white",
           "landcolor": "#E5ECF6",
           "showlakes": true,
           "showland": true,
           "subunitcolor": "white"
          },
          "hoverlabel": {
           "align": "left"
          },
          "hovermode": "closest",
          "mapbox": {
           "style": "light"
          },
          "paper_bgcolor": "white",
          "plot_bgcolor": "#E5ECF6",
          "polar": {
           "angularaxis": {
            "gridcolor": "white",
            "linecolor": "white",
            "ticks": ""
           },
           "bgcolor": "#E5ECF6",
           "radialaxis": {
            "gridcolor": "white",
            "linecolor": "white",
            "ticks": ""
           }
          },
          "scene": {
           "xaxis": {
            "backgroundcolor": "#E5ECF6",
            "gridcolor": "white",
            "gridwidth": 2,
            "linecolor": "white",
            "showbackground": true,
            "ticks": "",
            "zerolinecolor": "white"
           },
           "yaxis": {
            "backgroundcolor": "#E5ECF6",
            "gridcolor": "white",
            "gridwidth": 2,
            "linecolor": "white",
            "showbackground": true,
            "ticks": "",
            "zerolinecolor": "white"
           },
           "zaxis": {
            "backgroundcolor": "#E5ECF6",
            "gridcolor": "white",
            "gridwidth": 2,
            "linecolor": "white",
            "showbackground": true,
            "ticks": "",
            "zerolinecolor": "white"
           }
          },
          "shapedefaults": {
           "line": {
            "color": "#2a3f5f"
           }
          },
          "ternary": {
           "aaxis": {
            "gridcolor": "white",
            "linecolor": "white",
            "ticks": ""
           },
           "baxis": {
            "gridcolor": "white",
            "linecolor": "white",
            "ticks": ""
           },
           "bgcolor": "#E5ECF6",
           "caxis": {
            "gridcolor": "white",
            "linecolor": "white",
            "ticks": ""
           }
          },
          "title": {
           "x": 0.05
          },
          "xaxis": {
           "automargin": true,
           "gridcolor": "white",
           "linecolor": "white",
           "ticks": "",
           "title": {
            "standoff": 15
           },
           "zerolinecolor": "white",
           "zerolinewidth": 2
          },
          "yaxis": {
           "automargin": true,
           "gridcolor": "white",
           "linecolor": "white",
           "ticks": "",
           "title": {
            "standoff": 15
           },
           "zerolinecolor": "white",
           "zerolinewidth": 2
          }
         }
        },
        "xaxis": {
         "anchor": "y",
         "constrain": "domain",
         "domain": [
          0,
          1
         ],
         "scaleanchor": "y"
        },
        "yaxis": {
         "anchor": "x",
         "autorange": "reversed",
         "constrain": "domain",
         "domain": [
          0,
          1
         ]
        }
       }
      },
      "text/html": [
       "<div>                            <div id=\"6cda6987-fbc0-4086-8532-c6590cb3525e\" class=\"plotly-graph-div\" style=\"height:525px; width:100%;\"></div>            <script type=\"text/javascript\">                require([\"plotly\"], function(Plotly) {                    window.PLOTLYENV=window.PLOTLYENV || {};                                    if (document.getElementById(\"6cda6987-fbc0-4086-8532-c6590cb3525e\")) {                    Plotly.newPlot(                        \"6cda6987-fbc0-4086-8532-c6590cb3525e\",                        [{\"coloraxis\":\"coloraxis\",\"name\":\"0\",\"texttemplate\":\"%{z}\",\"x\":[\"id\",\"City - Cold Weather\",\"Highway - Cold Weather\",\"Combined - Cold Weather\",\"City - Mild Weather\",\"Highway - Mild Weather\",\"Combined - Mild Weather\",\"Acceleration 0 - 100 km/h\",\"Top Speed\",\"Electric Range\",\"Total Power\",\"Total Torque\",\"Battery Capacity\",\"Charge Power\",\"Charge Speed\",\"Fastcharge Speed\",\"Length\",\"Width\",\"Height\",\"Wheelbase\",\"Gross Vehicle Weight (GVWR)\",\"Max. Payload\",\"Cargo Volume\",\"Seats\"],\"y\":[\"id\",\"City - Cold Weather\",\"Highway - Cold Weather\",\"Combined - Cold Weather\",\"City - Mild Weather\",\"Highway - Mild Weather\",\"Combined - Mild Weather\",\"Acceleration 0 - 100 km/h\",\"Top Speed\",\"Electric Range\",\"Total Power\",\"Total Torque\",\"Battery Capacity\",\"Charge Power\",\"Charge Speed\",\"Fastcharge Speed\",\"Length\",\"Width\",\"Height\",\"Wheelbase\",\"Gross Vehicle Weight (GVWR)\",\"Max. Payload\",\"Cargo Volume\",\"Seats\"],\"z\":[[1.0,0.1486427370306855,0.1256777236326003,0.13395646483001222,0.13266683600889637,0.11758083741771433,0.12241799842540413,-0.016638649585857753,0.001646152216574382,0.12828865625371244,0.00021532850559270516,0.07690219621240896,0.15045256658544792,-0.02537509693393621,-0.06992465185438108,-0.006527073914645356,0.1447987116191496,0.09220192267617171,0.13208113628908985,0.20759529601408971,0.12711320792768901,-0.006921023122856163,0.009927492882963426,0.10659918708591422],[0.1486427370306855,1.0,0.9938771000366993,0.9976706309713034,0.9954031461480944,0.98960484233744,0.9927018023046471,-0.6873483843945857,0.6901906453599063,0.9956108684126623,0.6344540531995501,0.6173196636438448,0.8929944801837899,0.38706074868669893,0.3799216611409724,0.6815409033212129,0.2583529664499865,0.3153362238589077,-0.4825698177701975,0.10660594497872235,0.31674874415647286,-0.3337125654749959,-0.10465141358899895,-0.4565578095924306],[0.1256777236326003,0.9938771000366993,1.0,0.9987453191346172,0.9959481428868119,0.9988539325632539,0.9987010827014589,-0.7138545523947658,0.7176891289523802,0.9992154600479213,0.6516591083594211,0.6281198561309329,0.8671666715694779,0.39620884610136126,0.4101968340608323,0.7095453175422953,0.23415325761326125,0.2910666901062413,-0.5451055714569276,0.07096870227712919,0.2819896962709587,-0.36503575214763784,-0.1386730055623727,-0.5010877660783167],[0.13395646483001222,0.9976706309713034,0.9987453191346172,1.0,0.997390142496451,0.9966436170126127,0.9978908707249495,-0.706069574243589,0.7084480777408626,0.9992980930732001,0.6450640060630681,0.6238571149619637,0.877135070260395,0.3936391880861068,0.4000401850742983,0.7012826428555614,0.24111769036773634,0.29986274137761504,-0.5227410023854182,0.08222273232512235,0.29407184166511624,-0.3544034411511837,-0.1283345438423169,-0.48563280497687766],[0.13266683600889637,0.9954031461480944,0.9959481428868119,0.997390142496451,1.0,0.9954820995959138,0.9981643108524302,-0.6949272387250345,0.6837656294614097,0.9982620005130296,0.6091902408209602,0.5849176551593673,0.8496222298960637,0.40317815532543666,0.42662958030285264,0.6822001215349609,0.19231547961475992,0.24808826601026043,-0.5340706915185942,0.04145445983472254,0.24071520394947904,-0.38749662755530856,-0.1526168262646499,-0.501401527791872],[0.11758083741771433,0.98960484233744,0.9988539325632539,0.9966436170126127,0.9954820995959138,1.0,0.9992066844397707,-0.716631067266713,0.7157846840943237,0.9984006435241529,0.6418217302257541,0.6153973366302643,0.8469006919767352,0.3994034524235364,0.4268981032105464,0.7125650591082278,0.20887997074753736,0.2644479100843869,-0.5675850829459278,0.046287670002231385,0.2513086405488625,-0.38502869111351884,-0.15938904394471523,-0.5184914931005254],[0.12241799842540413,0.9927018023046471,0.9987010827014589,0.9978908707249495,0.9981643108524302,0.9992066844397707,1.0,-0.708976531682828,0.7030936613796973,0.9993404627556475,0.628608904253766,0.6031528462668151,0.8479816996020542,0.40165567262717294,0.42805747564743535,0.7015612555704087,0.20172088651837455,0.25735227384762127,-0.5549525419542277,0.042970714127157666,0.2469004765092802,-0.38703876425274863,-0.15606174734301212,-0.5124086120008905],[-0.016638649585857753,-0.6873483843945857,-0.7138545523947658,-0.706069574243589,-0.6949272387250345,-0.716631067266713,-0.708976531682828,1.0,-0.8724948817046443,-0.7081723103731633,-0.8367034839178972,-0.7847170659739021,-0.5680016433170187,-0.3988548782357664,-0.405162644396971,-0.711806044765634,0.009513124212621307,-0.22077717673660519,0.7386446949345031,0.23926384854802574,-0.05426824979248951,0.5578704912344484,0.40717255684256015,0.7269342500780505],[0.001646152216574382,0.6901906453599063,0.7176891289523802,0.7084480777408626,0.6837656294614097,0.7157846840943237,0.7030936613796973,-0.8724948817046443,1.0,0.7067070514789756,0.9220497153017813,0.829415059635821,0.6646362362257665,0.3161463419479049,0.2845013023003275,0.8254546296313229,0.24458124064810216,0.44062729961408686,-0.6760733273209252,-0.0063904501220531425,0.25108452137467857,-0.32818370737786284,-0.2158613236483706,-0.5972537760743529],[0.12828865625371244,0.9956108684126623,0.9992154600479213,0.9992980930732001,0.9982620005130296,0.9984006435241529,0.9993404627556475,-0.7081723103731633,0.7067070514789756,1.0,0.6374013070805762,0.6140727988440281,0.8630621069974584,0.3983949429216171,0.4150193037224518,0.70159528886084,0.21982558335378025,0.2779753224718259,-0.5401061389669132,0.06122733505004695,0.26925811410489386,-0.3736257046821827,-0.14522006111614608,-0.5008426134428164],[0.00021532850559270516,0.6344540531995501,0.6516591083594211,0.6450640060630681,0.6091902408209602,0.6418217302257541,0.628608904253766,-0.8367034839178972,0.9220497153017813,0.6374013070805762,1.0,0.9059293336139583,0.6985669551426195,0.2863832640965555,0.18499680959599385,0.7457618353647484,0.34656971994952457,0.5267071776382903,-0.5331539396620862,0.11450606437297682,0.39440605460688216,-0.18727217653042355,-0.13429440954229724,-0.4606610377187662],[0.07690219621240896,0.6173196636438448,0.6281198561309329,0.6238571149619637,0.5849176551593673,0.6153973366302643,0.6031528462668151,-0.7847170659739021,0.829415059635821,0.6140727988440281,0.9059293336139583,1.0,0.7136921114249353,0.25650025845247326,0.13246413452139982,0.6085856068418464,0.34706011869864284,0.4961852472839265,-0.4223162912584758,0.16958467310996603,0.43359849380631105,-0.19758329692145876,-0.11934871815938233,-0.3825407505623672],[0.15045256658544792,0.8929944801837899,0.8671666715694779,0.877135070260395,0.8496222298960637,0.8469006919767352,0.8479816996020542,-0.5680016433170187,0.6646362362257665,0.8630621069974584,0.6985669551426195,0.7136921114249353,1.0,0.24072361791845728,0.1006403510123171,0.6132681671814371,0.5642533585577357,0.6104758694784,-0.21598139476220066,0.42212773480273086,0.6566272993020739,-0.017507263740065015,0.14593395932061887,-0.19501483823710672],[-0.02537509693393621,0.38706074868669893,0.39620884610136126,0.3936391880861068,0.40317815532543666,0.3994034524235364,0.40165567262717294,-0.3988548782357664,0.3161463419479049,0.3983949429216171,0.2863832640965555,0.25650025845247326,0.24072361791845728,1.0,0.9341057069336413,0.30376229117147563,-0.18440449683400958,-0.08699987877446007,-0.391896764137423,-0.23096858155800815,-0.08322318274890088,-0.33026341324765063,-0.2126362457740923,-0.40624050433266534],[-0.06992465185438108,0.3799216611409724,0.4101968340608323,0.4000401850742983,0.42662958030285264,0.4268981032105464,0.42805747564743535,-0.405162644396971,0.2845013023003275,0.4150193037224518,0.18499680959599385,0.13246413452139982,0.1006403510123171,0.9341057069336413,1.0,0.30079686526013294,-0.4092036336846861,-0.32703710180203116,-0.5664950281647203,-0.450205187265744,-0.35336863197320945,-0.518862743074596,-0.3932968377608441,-0.552493800787215],[-0.006527073914645356,0.6815409033212129,0.7095453175422953,0.7012826428555614,0.6822001215349609,0.7125650591082278,0.7015612555704087,-0.711806044765634,0.8254546296313229,0.70159528886084,0.7457618353647484,0.6085856068418464,0.6132681671814371,0.30376229117147563,0.30079686526013294,1.0,0.24403932821388175,0.4143914926235924,-0.624198335957247,0.05165505921259248,0.24517019574010407,-0.21508859872379202,-0.1554721474903374,-0.49930532511789305],[0.1447987116191496,0.2583529664499865,0.23415325761326125,0.24111769036773634,0.19231547961475992,0.20887997074753736,0.20172088651837455,0.009513124212621307,0.24458124064810216,0.21982558335378025,0.34656971994952457,0.34706011869864284,0.5642533585577357,-0.18440449683400958,-0.4092036336846861,0.24403932821388175,1.0,0.8590183240743963,0.367422993113343,0.9000072788293788,0.9075872800139005,0.6657787092332669,0.6631327645666166,0.49810881619562275],[0.09220192267617171,0.3153362238589077,0.2910666901062413,0.29986274137761504,0.24808826601026043,0.2644479100843869,0.25735227384762127,-0.22077717673660519,0.44062729961408686,0.2779753224718259,0.5267071776382903,0.4961852472839265,0.6104758694784,-0.08699987877446007,-0.32703710180203116,0.4143914926235924,0.8590183240743963,1.0,0.2121974283037415,0.7345119632905667,0.8539592389404236,0.5039634408963738,0.46667524363920676,0.2421677137067458],[0.13208113628908985,-0.4825698177701975,-0.5451055714569276,-0.5227410023854182,-0.5340706915185942,-0.5675850829459278,-0.5549525419542277,0.7386446949345031,-0.6760733273209252,-0.5401061389669132,-0.5331539396620862,-0.4223162912584758,-0.21598139476220066,-0.391896764137423,-0.5664950281647203,-0.624198335957247,0.367422993113343,0.2121974283037415,1.0,0.5761037404696463,0.39140478360800135,0.7206574159785974,0.6485676444288223,0.8768184100052625],[0.20759529601408971,0.10660594497872235,0.07096870227712919,0.08222273232512235,0.04145445983472254,0.046287670002231385,0.042970714127157666,0.23926384854802574,-0.0063904501220531425,0.06122733505004695,0.11450606437297682,0.16958467310996603,0.42212773480273086,-0.23096858155800815,-0.450205187265744,0.05165505921259248,0.9000072788293788,0.7345119632905667,0.5761037404696463,1.0,0.8582412566708228,0.7886985209279027,0.6489658340622428,0.701977657128417],[0.12711320792768901,0.31674874415647286,0.2819896962709587,0.29407184166511624,0.24071520394947904,0.2513086405488625,0.2469004765092802,-0.05426824979248951,0.25108452137467857,0.26925811410489386,0.39440605460688216,0.43359849380631105,0.6566272993020739,-0.08322318274890088,-0.35336863197320945,0.24517019574010407,0.9075872800139005,0.8539592389404236,0.39140478360800135,0.8582412566708228,1.0,0.6727163928889461,0.5923757533155636,0.4502581553964928],[-0.006921023122856163,-0.3337125654749959,-0.36503575214763784,-0.3544034411511837,-0.38749662755530856,-0.38502869111351884,-0.38703876425274863,0.5578704912344484,-0.32818370737786284,-0.3736257046821827,-0.18727217653042355,-0.19758329692145876,-0.017507263740065015,-0.33026341324765063,-0.518862743074596,-0.21508859872379202,0.6657787092332669,0.5039634408963738,0.7206574159785974,0.7886985209279027,0.6727163928889461,1.0,0.6455053974286413,0.8447352835302202],[0.009927492882963426,-0.10465141358899895,-0.1386730055623727,-0.1283345438423169,-0.1526168262646499,-0.15938904394471523,-0.15606174734301212,0.40717255684256015,-0.2158613236483706,-0.14522006111614608,-0.13429440954229724,-0.11934871815938233,0.14593395932061887,-0.2126362457740923,-0.3932968377608441,-0.1554721474903374,0.6631327645666166,0.46667524363920676,0.6485676444288223,0.6489658340622428,0.5923757533155636,0.6455053974286413,1.0,0.6236025885235632],[0.10659918708591422,-0.4565578095924306,-0.5010877660783167,-0.48563280497687766,-0.501401527791872,-0.5184914931005254,-0.5124086120008905,0.7269342500780505,-0.5972537760743529,-0.5008426134428164,-0.4606610377187662,-0.3825407505623672,-0.19501483823710672,-0.40624050433266534,-0.552493800787215,-0.49930532511789305,0.49810881619562275,0.2421677137067458,0.8768184100052625,0.701977657128417,0.4502581553964928,0.8447352835302202,0.6236025885235632,1.0]],\"type\":\"heatmap\",\"xaxis\":\"x\",\"yaxis\":\"y\",\"hovertemplate\":\"x: %{x}<br>y: %{y}<br>color: %{z}<extra></extra>\"}],                        {\"template\":{\"data\":{\"histogram2dcontour\":[{\"type\":\"histogram2dcontour\",\"colorbar\":{\"outlinewidth\":0,\"ticks\":\"\"},\"colorscale\":[[0.0,\"#0d0887\"],[0.1111111111111111,\"#46039f\"],[0.2222222222222222,\"#7201a8\"],[0.3333333333333333,\"#9c179e\"],[0.4444444444444444,\"#bd3786\"],[0.5555555555555556,\"#d8576b\"],[0.6666666666666666,\"#ed7953\"],[0.7777777777777778,\"#fb9f3a\"],[0.8888888888888888,\"#fdca26\"],[1.0,\"#f0f921\"]]}],\"choropleth\":[{\"type\":\"choropleth\",\"colorbar\":{\"outlinewidth\":0,\"ticks\":\"\"}}],\"histogram2d\":[{\"type\":\"histogram2d\",\"colorbar\":{\"outlinewidth\":0,\"ticks\":\"\"},\"colorscale\":[[0.0,\"#0d0887\"],[0.1111111111111111,\"#46039f\"],[0.2222222222222222,\"#7201a8\"],[0.3333333333333333,\"#9c179e\"],[0.4444444444444444,\"#bd3786\"],[0.5555555555555556,\"#d8576b\"],[0.6666666666666666,\"#ed7953\"],[0.7777777777777778,\"#fb9f3a\"],[0.8888888888888888,\"#fdca26\"],[1.0,\"#f0f921\"]]}],\"heatmap\":[{\"type\":\"heatmap\",\"colorbar\":{\"outlinewidth\":0,\"ticks\":\"\"},\"colorscale\":[[0.0,\"#0d0887\"],[0.1111111111111111,\"#46039f\"],[0.2222222222222222,\"#7201a8\"],[0.3333333333333333,\"#9c179e\"],[0.4444444444444444,\"#bd3786\"],[0.5555555555555556,\"#d8576b\"],[0.6666666666666666,\"#ed7953\"],[0.7777777777777778,\"#fb9f3a\"],[0.8888888888888888,\"#fdca26\"],[1.0,\"#f0f921\"]]}],\"heatmapgl\":[{\"type\":\"heatmapgl\",\"colorbar\":{\"outlinewidth\":0,\"ticks\":\"\"},\"colorscale\":[[0.0,\"#0d0887\"],[0.1111111111111111,\"#46039f\"],[0.2222222222222222,\"#7201a8\"],[0.3333333333333333,\"#9c179e\"],[0.4444444444444444,\"#bd3786\"],[0.5555555555555556,\"#d8576b\"],[0.6666666666666666,\"#ed7953\"],[0.7777777777777778,\"#fb9f3a\"],[0.8888888888888888,\"#fdca26\"],[1.0,\"#f0f921\"]]}],\"contourcarpet\":[{\"type\":\"contourcarpet\",\"colorbar\":{\"outlinewidth\":0,\"ticks\":\"\"}}],\"contour\":[{\"type\":\"contour\",\"colorbar\":{\"outlinewidth\":0,\"ticks\":\"\"},\"colorscale\":[[0.0,\"#0d0887\"],[0.1111111111111111,\"#46039f\"],[0.2222222222222222,\"#7201a8\"],[0.3333333333333333,\"#9c179e\"],[0.4444444444444444,\"#bd3786\"],[0.5555555555555556,\"#d8576b\"],[0.6666666666666666,\"#ed7953\"],[0.7777777777777778,\"#fb9f3a\"],[0.8888888888888888,\"#fdca26\"],[1.0,\"#f0f921\"]]}],\"surface\":[{\"type\":\"surface\",\"colorbar\":{\"outlinewidth\":0,\"ticks\":\"\"},\"colorscale\":[[0.0,\"#0d0887\"],[0.1111111111111111,\"#46039f\"],[0.2222222222222222,\"#7201a8\"],[0.3333333333333333,\"#9c179e\"],[0.4444444444444444,\"#bd3786\"],[0.5555555555555556,\"#d8576b\"],[0.6666666666666666,\"#ed7953\"],[0.7777777777777778,\"#fb9f3a\"],[0.8888888888888888,\"#fdca26\"],[1.0,\"#f0f921\"]]}],\"mesh3d\":[{\"type\":\"mesh3d\",\"colorbar\":{\"outlinewidth\":0,\"ticks\":\"\"}}],\"scatter\":[{\"fillpattern\":{\"fillmode\":\"overlay\",\"size\":10,\"solidity\":0.2},\"type\":\"scatter\"}],\"parcoords\":[{\"type\":\"parcoords\",\"line\":{\"colorbar\":{\"outlinewidth\":0,\"ticks\":\"\"}}}],\"scatterpolargl\":[{\"type\":\"scatterpolargl\",\"marker\":{\"colorbar\":{\"outlinewidth\":0,\"ticks\":\"\"}}}],\"bar\":[{\"error_x\":{\"color\":\"#2a3f5f\"},\"error_y\":{\"color\":\"#2a3f5f\"},\"marker\":{\"line\":{\"color\":\"#E5ECF6\",\"width\":0.5},\"pattern\":{\"fillmode\":\"overlay\",\"size\":10,\"solidity\":0.2}},\"type\":\"bar\"}],\"scattergeo\":[{\"type\":\"scattergeo\",\"marker\":{\"colorbar\":{\"outlinewidth\":0,\"ticks\":\"\"}}}],\"scatterpolar\":[{\"type\":\"scatterpolar\",\"marker\":{\"colorbar\":{\"outlinewidth\":0,\"ticks\":\"\"}}}],\"histogram\":[{\"marker\":{\"pattern\":{\"fillmode\":\"overlay\",\"size\":10,\"solidity\":0.2}},\"type\":\"histogram\"}],\"scattergl\":[{\"type\":\"scattergl\",\"marker\":{\"colorbar\":{\"outlinewidth\":0,\"ticks\":\"\"}}}],\"scatter3d\":[{\"type\":\"scatter3d\",\"line\":{\"colorbar\":{\"outlinewidth\":0,\"ticks\":\"\"}},\"marker\":{\"colorbar\":{\"outlinewidth\":0,\"ticks\":\"\"}}}],\"scattermapbox\":[{\"type\":\"scattermapbox\",\"marker\":{\"colorbar\":{\"outlinewidth\":0,\"ticks\":\"\"}}}],\"scatterternary\":[{\"type\":\"scatterternary\",\"marker\":{\"colorbar\":{\"outlinewidth\":0,\"ticks\":\"\"}}}],\"scattercarpet\":[{\"type\":\"scattercarpet\",\"marker\":{\"colorbar\":{\"outlinewidth\":0,\"ticks\":\"\"}}}],\"carpet\":[{\"aaxis\":{\"endlinecolor\":\"#2a3f5f\",\"gridcolor\":\"white\",\"linecolor\":\"white\",\"minorgridcolor\":\"white\",\"startlinecolor\":\"#2a3f5f\"},\"baxis\":{\"endlinecolor\":\"#2a3f5f\",\"gridcolor\":\"white\",\"linecolor\":\"white\",\"minorgridcolor\":\"white\",\"startlinecolor\":\"#2a3f5f\"},\"type\":\"carpet\"}],\"table\":[{\"cells\":{\"fill\":{\"color\":\"#EBF0F8\"},\"line\":{\"color\":\"white\"}},\"header\":{\"fill\":{\"color\":\"#C8D4E3\"},\"line\":{\"color\":\"white\"}},\"type\":\"table\"}],\"barpolar\":[{\"marker\":{\"line\":{\"color\":\"#E5ECF6\",\"width\":0.5},\"pattern\":{\"fillmode\":\"overlay\",\"size\":10,\"solidity\":0.2}},\"type\":\"barpolar\"}],\"pie\":[{\"automargin\":true,\"type\":\"pie\"}]},\"layout\":{\"autotypenumbers\":\"strict\",\"colorway\":[\"#636efa\",\"#EF553B\",\"#00cc96\",\"#ab63fa\",\"#FFA15A\",\"#19d3f3\",\"#FF6692\",\"#B6E880\",\"#FF97FF\",\"#FECB52\"],\"font\":{\"color\":\"#2a3f5f\"},\"hovermode\":\"closest\",\"hoverlabel\":{\"align\":\"left\"},\"paper_bgcolor\":\"white\",\"plot_bgcolor\":\"#E5ECF6\",\"polar\":{\"bgcolor\":\"#E5ECF6\",\"angularaxis\":{\"gridcolor\":\"white\",\"linecolor\":\"white\",\"ticks\":\"\"},\"radialaxis\":{\"gridcolor\":\"white\",\"linecolor\":\"white\",\"ticks\":\"\"}},\"ternary\":{\"bgcolor\":\"#E5ECF6\",\"aaxis\":{\"gridcolor\":\"white\",\"linecolor\":\"white\",\"ticks\":\"\"},\"baxis\":{\"gridcolor\":\"white\",\"linecolor\":\"white\",\"ticks\":\"\"},\"caxis\":{\"gridcolor\":\"white\",\"linecolor\":\"white\",\"ticks\":\"\"}},\"coloraxis\":{\"colorbar\":{\"outlinewidth\":0,\"ticks\":\"\"}},\"colorscale\":{\"sequential\":[[0.0,\"#0d0887\"],[0.1111111111111111,\"#46039f\"],[0.2222222222222222,\"#7201a8\"],[0.3333333333333333,\"#9c179e\"],[0.4444444444444444,\"#bd3786\"],[0.5555555555555556,\"#d8576b\"],[0.6666666666666666,\"#ed7953\"],[0.7777777777777778,\"#fb9f3a\"],[0.8888888888888888,\"#fdca26\"],[1.0,\"#f0f921\"]],\"sequentialminus\":[[0.0,\"#0d0887\"],[0.1111111111111111,\"#46039f\"],[0.2222222222222222,\"#7201a8\"],[0.3333333333333333,\"#9c179e\"],[0.4444444444444444,\"#bd3786\"],[0.5555555555555556,\"#d8576b\"],[0.6666666666666666,\"#ed7953\"],[0.7777777777777778,\"#fb9f3a\"],[0.8888888888888888,\"#fdca26\"],[1.0,\"#f0f921\"]],\"diverging\":[[0,\"#8e0152\"],[0.1,\"#c51b7d\"],[0.2,\"#de77ae\"],[0.3,\"#f1b6da\"],[0.4,\"#fde0ef\"],[0.5,\"#f7f7f7\"],[0.6,\"#e6f5d0\"],[0.7,\"#b8e186\"],[0.8,\"#7fbc41\"],[0.9,\"#4d9221\"],[1,\"#276419\"]]},\"xaxis\":{\"gridcolor\":\"white\",\"linecolor\":\"white\",\"ticks\":\"\",\"title\":{\"standoff\":15},\"zerolinecolor\":\"white\",\"automargin\":true,\"zerolinewidth\":2},\"yaxis\":{\"gridcolor\":\"white\",\"linecolor\":\"white\",\"ticks\":\"\",\"title\":{\"standoff\":15},\"zerolinecolor\":\"white\",\"automargin\":true,\"zerolinewidth\":2},\"scene\":{\"xaxis\":{\"backgroundcolor\":\"#E5ECF6\",\"gridcolor\":\"white\",\"linecolor\":\"white\",\"showbackground\":true,\"ticks\":\"\",\"zerolinecolor\":\"white\",\"gridwidth\":2},\"yaxis\":{\"backgroundcolor\":\"#E5ECF6\",\"gridcolor\":\"white\",\"linecolor\":\"white\",\"showbackground\":true,\"ticks\":\"\",\"zerolinecolor\":\"white\",\"gridwidth\":2},\"zaxis\":{\"backgroundcolor\":\"#E5ECF6\",\"gridcolor\":\"white\",\"linecolor\":\"white\",\"showbackground\":true,\"ticks\":\"\",\"zerolinecolor\":\"white\",\"gridwidth\":2}},\"shapedefaults\":{\"line\":{\"color\":\"#2a3f5f\"}},\"annotationdefaults\":{\"arrowcolor\":\"#2a3f5f\",\"arrowhead\":0,\"arrowwidth\":1},\"geo\":{\"bgcolor\":\"white\",\"landcolor\":\"#E5ECF6\",\"subunitcolor\":\"white\",\"showland\":true,\"showlakes\":true,\"lakecolor\":\"white\"},\"title\":{\"x\":0.05},\"mapbox\":{\"style\":\"light\"}}},\"xaxis\":{\"anchor\":\"y\",\"domain\":[0.0,1.0],\"scaleanchor\":\"y\",\"constrain\":\"domain\"},\"yaxis\":{\"anchor\":\"x\",\"domain\":[0.0,1.0],\"autorange\":\"reversed\",\"constrain\":\"domain\"},\"coloraxis\":{\"colorscale\":[[0.0,\"#0d0887\"],[0.1111111111111111,\"#46039f\"],[0.2222222222222222,\"#7201a8\"],[0.3333333333333333,\"#9c179e\"],[0.4444444444444444,\"#bd3786\"],[0.5555555555555556,\"#d8576b\"],[0.6666666666666666,\"#ed7953\"],[0.7777777777777778,\"#fb9f3a\"],[0.8888888888888888,\"#fdca26\"],[1.0,\"#f0f921\"]]},\"margin\":{\"t\":60}},                        {\"responsive\": true}                    ).then(function(){\n",
       "                            \n",
       "var gd = document.getElementById('6cda6987-fbc0-4086-8532-c6590cb3525e');\n",
       "var x = new MutationObserver(function (mutations, observer) {{\n",
       "        var display = window.getComputedStyle(gd).display;\n",
       "        if (!display || display === 'none') {{\n",
       "            console.log([gd, 'removed!']);\n",
       "            Plotly.purge(gd);\n",
       "            observer.disconnect();\n",
       "        }}\n",
       "}});\n",
       "\n",
       "// Listen for the removal of the full notebook cells\n",
       "var notebookContainer = gd.closest('#notebook-container');\n",
       "if (notebookContainer) {{\n",
       "    x.observe(notebookContainer, {childList: true});\n",
       "}}\n",
       "\n",
       "// Listen for the clearing of the current output cell\n",
       "var outputEl = gd.closest('.output');\n",
       "if (outputEl) {{\n",
       "    x.observe(outputEl, {childList: true});\n",
       "}}\n",
       "\n",
       "                        })                };                });            </script>        </div>"
      ]
     },
     "metadata": {},
     "output_type": "display_data"
    }
   ],
   "source": [
    "#Based on the box plot graph, on average Peugeot has the fastest accelaration cars given the df with a median speed of 13.1 km/h.\n",
    "#This analysis excludes Dacia since it only has one car model.The mean of all EV vehicles is 7.87 km/h. The 75th percentile is 9.6 km/h. and the std is 3.2 km/h. Peugeout is above the 75th percintile and is about two std deviations above the mean. Impressive! \n",
    "\n",
    "\n",
    "correlation_matrix = df.corr()\n",
    "fig = px.imshow(correlation_matrix, text_auto=True)\n",
    "fig.show()"
   ]
  },
  {
   "cell_type": "code",
   "execution_count": null,
   "id": "e86b4e94",
   "metadata": {},
   "outputs": [],
   "source": []
  },
  {
   "cell_type": "code",
   "execution_count": null,
   "id": "c943dd48",
   "metadata": {},
   "outputs": [],
   "source": [
    "\n"
   ]
  },
  {
   "cell_type": "code",
   "execution_count": null,
   "id": "40f68289",
   "metadata": {},
   "outputs": [],
   "source": []
  },
  {
   "cell_type": "code",
   "execution_count": null,
   "id": "1771f0bd",
   "metadata": {},
   "outputs": [],
   "source": []
  }
 ],
 "metadata": {
  "kernelspec": {
   "display_name": "Python 3 (ipykernel)",
   "language": "python",
   "name": "python3"
  },
  "language_info": {
   "codemirror_mode": {
    "name": "ipython",
    "version": 3
   },
   "file_extension": ".py",
   "mimetype": "text/x-python",
   "name": "python",
   "nbconvert_exporter": "python",
   "pygments_lexer": "ipython3",
   "version": "3.9.13"
  }
 },
 "nbformat": 4,
 "nbformat_minor": 5
}
